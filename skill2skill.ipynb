{
 "cells": [
  {
   "cell_type": "markdown",
   "metadata": {},
   "source": [
    "# skill2skill\n",
    "\n"
   ]
  },
  {
   "cell_type": "markdown",
   "metadata": {},
   "source": [
    "## Preparing Dependencies\n"
   ]
  },
  {
   "cell_type": "code",
   "execution_count": null,
   "metadata": {},
   "outputs": [],
   "source": [
    "pip install -r requirements.txt"
   ]
  },
  {
   "cell_type": "code",
   "execution_count": 2,
   "metadata": {},
   "outputs": [],
   "source": [
    "# import numpy as np\n",
    "# import csv\n",
    "# import pandas as pd\n",
    "# import re\n",
    "# import multiprocessing \n",
    "# import os\n",
    "# import pickle\n",
    "\n",
    "# from gensim.models import word2vec"
   ]
  },
  {
   "cell_type": "code",
   "execution_count": 3,
   "metadata": {},
   "outputs": [],
   "source": [
    "# vertical_concat = pd.read_csv(\"datasets\\dice_jobs_0.csv\")\n",
    "# for data in os.listdir('datasets')[1:-1]:\n",
    "#     vertical_concat = pd.concat([vertical_concat,pd.read_csv(os.path.join('datasets',data))], axis = 0)\n",
    "# vertical_concat = vertical_concat.dropna().reset_index(drop=True).drop(columns=['job_id'])\n",
    "# vertical_concat.head()"
   ]
  },
  {
   "cell_type": "code",
   "execution_count": 4,
   "metadata": {},
   "outputs": [],
   "source": [
    "# vertical_concat.to_csv('main_data.csv')"
   ]
  },
  {
   "cell_type": "markdown",
   "metadata": {},
   "source": [
    "## Trial 1"
   ]
  },
  {
   "cell_type": "code",
   "execution_count": 5,
   "metadata": {},
   "outputs": [],
   "source": [
    "# data = pd.read_csv('main_data.csv').drop(columns=['Unnamed: 0'])\n",
    "# data.head()"
   ]
  },
  {
   "cell_type": "code",
   "execution_count": 6,
   "metadata": {},
   "outputs": [],
   "source": [
    "# tokens=[]\n",
    "# for temp in data['job_description'].map(lambda x : x.split(' ')).values:\n",
    "#     tokens += temp"
   ]
  },
  {
   "cell_type": "code",
   "execution_count": 7,
   "metadata": {},
   "outputs": [],
   "source": [
    "# len(tokens)"
   ]
  },
  {
   "cell_type": "code",
   "execution_count": 8,
   "metadata": {},
   "outputs": [],
   "source": [
    "# vocab, index = {}, 1  # start indexing from 1\n",
    "# vocab['<pad>'] = 0  # add a padding token\n",
    "# for token in tokens:\n",
    "#   if token not in vocab:\n",
    "#     vocab[token] = index\n",
    "#     index += 1\n",
    "# vocab_size = len(vocab)\n",
    "# inverse_vocab = {index: token for token, index in vocab.items()}\n",
    "# print(inverse_vocab)"
   ]
  },
  {
   "cell_type": "code",
   "execution_count": 9,
   "metadata": {},
   "outputs": [],
   "source": [
    "# example_sequence = [vocab[word] for word in tokens]\n",
    "# print(example_sequence[:10])"
   ]
  },
  {
   "cell_type": "code",
   "execution_count": 10,
   "metadata": {},
   "outputs": [],
   "source": [
    "# def generate_training_data(sequences, window_size, num_ns, vocab_size, seed):\n",
    "#   # Elements of each training example are appended to these lists.\n",
    "#   targets, contexts, labels = [], [], []\n",
    "\n",
    "#   # Build the sampling table for `vocab_size` tokens.\n",
    "#   sampling_table = tf.keras.preprocessing.sequence.make_sampling_table(vocab_size)\n",
    "\n",
    "#   # Iterate over all sequences (sentences) in the dataset.\n",
    "#   for sequence in tqdm.tqdm(sequences):\n",
    "\n",
    "#     # Generate positive skip-gram pairs for a sequence (sentence).\n",
    "#     positive_skip_grams, _ = tf.keras.preprocessing.sequence.skipgrams(\n",
    "#           sequence,\n",
    "#           vocabulary_size=vocab_size,\n",
    "#           sampling_table=sampling_table,\n",
    "#           window_size=window_size,\n",
    "#           negative_samples=0)\n",
    "\n",
    "#     # Iterate over each positive skip-gram pair to produce training examples\n",
    "#     # with a positive context word and negative samples.\n",
    "#     for target_word, context_word in positive_skip_grams:\n",
    "#       context_class = tf.expand_dims(\n",
    "#           tf.constant([context_word], dtype=\"int64\"), 1)\n",
    "#       negative_sampling_candidates, _, _ = tf.random.log_uniform_candidate_sampler(\n",
    "#           true_classes=context_class,\n",
    "#           num_true=1,\n",
    "#           num_sampled=num_ns,\n",
    "#           unique=True,\n",
    "#           range_max=vocab_size,\n",
    "#           seed=seed,\n",
    "#           name=\"negative_sampling\")\n",
    "\n",
    "#       # Build context and label vectors (for one target word)\n",
    "#       negative_sampling_candidates = tf.expand_dims(\n",
    "#           negative_sampling_candidates, 1)\n",
    "\n",
    "#       context = tf.concat([context_class, negative_sampling_candidates], 0)\n",
    "#       label = tf.constant([1] + [0]*num_ns, dtype=\"int64\")\n",
    "\n",
    "#       # Append each element from the training example to global lists.\n",
    "#       targets.append(target_word)\n",
    "#       contexts.append(context)\n",
    "#       labels.append(label)\n",
    "\n",
    "#   return targets, contexts, labels"
   ]
  },
  {
   "cell_type": "markdown",
   "metadata": {},
   "source": [
    "## TRIAL 2"
   ]
  },
  {
   "cell_type": "code",
   "execution_count": 11,
   "metadata": {},
   "outputs": [],
   "source": [
    "# data_path = 'sample_extract//dice_jobs_0.csv'\n",
    "# data_must_have = pd.read_csv(data_path)\n",
    "# del data_must_have['job_id']\n",
    "\n",
    "# print(len(data_must_have))\n",
    "# data_must_have = data_must_have.drop_duplicates(subset=['job_description', 'job_title'], keep='last')\n",
    "# data_must_have = data_must_have[data_must_have[\"job_title\"] != 0]\n",
    "# print(len(data_must_have))\n",
    "# data_must_have['Count'] = data_must_have.groupby('job_title')['job_description'].transform(pd.Series.value_counts)\n",
    "# data_must_have.drop_duplicates(inplace=True)\n",
    "# data_must_have['job_description'] = data_must_have['job_description'].str.lower()\n",
    "# data_must_have['job_description'] = data_must_have['job_description'].str.replace(' ' ,'_') #map(lambda x: str(x).split(' ') if type(x)==str else x)\n",
    "# data_must_have['job_title'] = data_must_have['job_title'].str.lower()\n",
    "# # gr_df_keywordname = data_must_have.groupby('keyword_name')['job_title'].apply(list)\n",
    "# gr_df_jobtitle = data_must_have.groupby('job_title')['job_description'].apply(list)\n",
    "\n",
    "# gr_df_jobtitle"
   ]
  },
  {
   "cell_type": "code",
   "execution_count": 12,
   "metadata": {},
   "outputs": [],
   "source": [
    "# gr_df_jobtitle[0]"
   ]
  },
  {
   "cell_type": "code",
   "execution_count": 13,
   "metadata": {},
   "outputs": [],
   "source": [
    "# must_have_data = []\n",
    "# for vector_list in gr_df_jobtitle:\n",
    "#     xx = list(set(vector_list))\n",
    "#     if xx not in must_have_data:\n",
    "#         must_have_data.append(xx)\n",
    "\n",
    "# len(must_have_data)\n",
    "# must_have_data[0:2]"
   ]
  },
  {
   "cell_type": "code",
   "execution_count": 14,
   "metadata": {},
   "outputs": [],
   "source": [
    "\n",
    "# data = pd.read_csv(data_path, index_col='job_id')\n",
    "# data.head()"
   ]
  },
  {
   "cell_type": "code",
   "execution_count": 15,
   "metadata": {},
   "outputs": [],
   "source": [
    "# musthave_dice_naruki_model_200d = word2vec.Word2Vec(data['job_description'], \n",
    "#           workers=multiprocessing.cpu_count(),  # Number of threads to run in parallel\n",
    "#           size=200, \n",
    "#           min_count=5, \n",
    "#           window=10, \n",
    "#           sample = 1e-3,  # Downsample setting for frequent words\n",
    "#           iter=4,\n",
    "#           sg =1\n",
    "#     )"
   ]
  },
  {
   "cell_type": "code",
   "execution_count": 16,
   "metadata": {},
   "outputs": [],
   "source": [
    "# data_path = 'main_data.csv'\n",
    "# data_must_have = pd.read_csv(data_path)\n",
    "# # del data_must_have['job_id']\n",
    "\n",
    "# print(len(data_must_have))\n",
    "# data_must_have = data_must_have.drop_duplicates(subset=['job_description', 'job_title'], keep='last')\n",
    "# data_must_have = data_must_have[data_must_have[\"job_title\"] != 0]\n",
    "# print(len(data_must_have))\n",
    "# data_must_have['Count'] = data_must_have.groupby('job_title')['job_description'].transform(pd.Series.value_counts)\n",
    "# data_must_have.drop_duplicates(inplace=True)\n",
    "# data_must_have['job_description'] = data_must_have['job_description'].str.lower()\n",
    "# data_must_have['job_description'] = data_must_have['job_description'].map(lambda x: str(x).split(' ') if type(x)==str else x)\n",
    "# data_must_have['job_title'] = data_must_have['job_title'].str.lower()\n",
    "# # # gr_df_keywordname = data_must_have.groupby('keyword_name')['job_title'].apply(list)\n",
    "# gr_df_jobtitle = data_must_have.groupby('job_title')['job_description'].apply(list)\n",
    "\n",
    "# gr_df_jobtitle"
   ]
  },
  {
   "cell_type": "code",
   "execution_count": 17,
   "metadata": {},
   "outputs": [],
   "source": [
    "# vocab, index = {}, 1  # start indexing from 1\n",
    "# vocab['<pad>'] = 0  # add a padding token\n",
    "# for token in gr_df_jobtitle[0]:\n",
    "#   print(token)\n",
    "#   if token not in vocab:\n",
    "#     vocab[token] = index\n",
    "#     index += 1\n",
    "# vocab_size = len(vocab)\n",
    "# print(vocab)"
   ]
  },
  {
   "cell_type": "code",
   "execution_count": 18,
   "metadata": {},
   "outputs": [],
   "source": [
    "# gr_df_jobtitle"
   ]
  },
  {
   "cell_type": "markdown",
   "metadata": {},
   "source": [
    "## Trial 3\n"
   ]
  },
  {
   "cell_type": "code",
   "execution_count": 19,
   "metadata": {},
   "outputs": [],
   "source": [
    "# import numpy as np\n",
    "# import string\n",
    "# from nltk.corpus import stopwords \n",
    "\n",
    "# def softmax(x):\n",
    "# \t\"\"\"Compute softmax values for each sets of scores in x.\"\"\"\n",
    "# \te_x = np.exp(x - np.max(x))\n",
    "# \treturn e_x / e_x.sum()\n",
    "\n",
    "# class word2vec(object):\n",
    "# \tdef __init__(self):\n",
    "# \t\tself.N = 10\n",
    "# \t\tself.X_train = []\n",
    "# \t\tself.y_train = []\n",
    "# \t\tself.window_size = 2\n",
    "# \t\tself.alpha = 0.001\n",
    "# \t\tself.words = []\n",
    "# \t\tself.word_index = {}\n",
    "\n",
    "# \tdef initialize(self,V,data):\n",
    "# \t\tself.V = V\n",
    "# \t\tself.W = np.random.uniform(-0.8, 0.8, (self.V, self.N))\n",
    "# \t\tself.W1 = np.random.uniform(-0.8, 0.8, (self.N, self.V))\n",
    "\t\t\n",
    "# \t\tself.words = data\n",
    "# \t\tfor i in range(len(data)):\n",
    "# \t\t\tself.word_index[data[i]] = i\n",
    "\n",
    "\t\n",
    "# \tdef feed_forward(self,X):\n",
    "# \t\tself.h = np.dot(self.W.T,X).reshape(self.N,1)\n",
    "# \t\tself.u = np.dot(self.W1.T,self.h)\n",
    "# \t\t#print(self.u)\n",
    "# \t\tself.y = softmax(self.u) \n",
    "# \t\treturn self.y\n",
    "\t\t\n",
    "# \tdef backpropagate(self,x,t):\n",
    "# \t\te = self.y - np.asarray(t).reshape(self.V,1)\n",
    "# \t\t# e.shape is V x 1\n",
    "# \t\tdLdW1 = np.dot(self.h,e.T)\n",
    "# \t\tX = np.array(x).reshape(self.V,1)\n",
    "# \t\tdLdW = np.dot(X, np.dot(self.W1,e).T)\n",
    "# \t\tself.W1 = self.W1 - self.alpha*dLdW1\n",
    "# \t\tself.W = self.W - self.alpha*dLdW\n",
    "\t\t\n",
    "# \tdef train(self,epochs):\n",
    "# \t\tfor x in range(1,epochs):\t \n",
    "# \t\t\tself.loss = 0\n",
    "# \t\t\tfor j in range(len(self.X_train)):\n",
    "# \t\t\t\tself.feed_forward(self.X_train[j])\n",
    "# \t\t\t\tself.backpropagate(self.X_train[j],self.y_train[j])\n",
    "# \t\t\t\tC = 0\n",
    "# \t\t\t\tfor m in range(self.V):\n",
    "# \t\t\t\t\tif(self.y_train[j][m]):\n",
    "# \t\t\t\t\t\tself.loss += -1*self.u[m][0]\n",
    "# \t\t\t\t\t\tC += 1\n",
    "# \t\t\t\tself.loss += C*np.log(np.sum(np.exp(self.u)))\n",
    "# \t\t\tprint(\"epoch \",x, \" loss = \",self.loss)\n",
    "# \t\t\tself.alpha *= 1/( (1+self.alpha*x) )\n",
    "\t\t\t\n",
    "# \tdef predict(self,word,number_of_predictions):\n",
    "# \t\tif word in self.words:\n",
    "# \t\t\tindex = self.word_index[word]\n",
    "# \t\t\tX = [0 for i in range(self.V)]\n",
    "# \t\t\tX[index] = 1\n",
    "# \t\t\tprediction = self.feed_forward(X)\n",
    "# \t\t\toutput = {}\n",
    "# \t\t\tfor i in range(self.V):\n",
    "# \t\t\t\toutput[prediction[i][0]] = i\n",
    "\t\t\t\n",
    "# \t\t\ttop_context_words = []\n",
    "# \t\t\tfor k in sorted(output,reverse=True):\n",
    "# \t\t\t\ttop_context_words.append(self.words[output[k]])\n",
    "# \t\t\t\tif(len(top_context_words)>=number_of_predictions):\n",
    "# \t\t\t\t\tbreak\n",
    "\t\n",
    "# \t\t\treturn top_context_words\n",
    "# \t\telse:\n",
    "# \t\t\tprint(\"Word not found in dictionary\")\n"
   ]
  },
  {
   "cell_type": "code",
   "execution_count": 20,
   "metadata": {},
   "outputs": [],
   "source": [
    "# def preprocessing(corpus):\n",
    "# \tstop_words = set(stopwords.words('english')) \n",
    "# \ttraining_data = []\n",
    "# \tsentences = corpus#.split(\".\")\n",
    "# \tfor i in range(len(sentences)):\n",
    "# \t\tsentences[i] = sentences[i].strip()\n",
    "# \t\tsentence = sentences[i].split()\n",
    "# \t\tx = [word.strip(string.punctuation) for word in sentence\n",
    "# \t\t\t\t\t\t\t\t\tif word not in stop_words]\n",
    "# \t\tx = [word.lower() for word in x]\n",
    "# \t\ttraining_data.append(x)\n",
    "# \treturn training_data\n",
    "\t\n",
    "\n",
    "# def prepare_data_for_training(sentences,w2v):\n",
    "# \tdata = {}\n",
    "# \tfor sentence in sentences:\n",
    "# \t\tfor word in sentence:\n",
    "# \t\t\tif word not in data:\n",
    "# \t\t\t\tdata[word] = 1\n",
    "# \t\t\telse:\n",
    "# \t\t\t\tdata[word] += 1\n",
    "# \tV = len(data)\n",
    "# \tdata = sorted(list(data.keys()))\n",
    "# \tvocab = {}\n",
    "# \tfor i in range(len(data)):\n",
    "# \t\tvocab[data[i]] = i\n",
    "\t\n",
    "# \t#for i in range(len(words)):\n",
    "# \tfor sentence in sentences:\n",
    "# \t\tfor i in range(len(sentence)):\n",
    "# \t\t\tcenter_word = [0 for x in range(V)]\n",
    "# \t\t\tcenter_word[vocab[sentence[i]]] = 1\n",
    "# \t\t\tcontext = [0 for x in range(V)]\n",
    "\t\t\t\n",
    "# \t\t\tfor j in range(i-w2v.window_size,i+w2v.window_size):\n",
    "# \t\t\t\tif i!=j and j>=0 and j<len(sentence):\n",
    "# \t\t\t\t\tcontext[vocab[sentence[j]]] += 1\n",
    "# \t\t\tw2v.X_train.append(center_word)\n",
    "# \t\t\tw2v.y_train.append(context)\n",
    "# \tw2v.initialize(V,data)\n",
    "\n",
    "# \treturn w2v.X_train,w2v.y_train \n"
   ]
  },
  {
   "cell_type": "markdown",
   "metadata": {},
   "source": [
    "## Trial 4\n"
   ]
  },
  {
   "cell_type": "markdown",
   "metadata": {},
   "source": [
    "#### test case from skill2vec\n"
   ]
  },
  {
   "cell_type": "code",
   "execution_count": 8,
   "metadata": {},
   "outputs": [
    {
     "name": "stderr",
     "output_type": "stream",
     "text": [
      "[nltk_data] Downloading package wordnet to C:\\Users\\My\n",
      "[nltk_data]     Pc\\AppData\\Roaming\\nltk_data...\n",
      "[nltk_data]   Package wordnet is already up-to-date!\n"
     ]
    },
    {
     "data": {
      "text/plain": [
       "True"
      ]
     },
     "execution_count": 8,
     "metadata": {},
     "output_type": "execute_result"
    }
   ],
   "source": [
    "import re\n",
    "from html import unescape\n",
    "from html.parser import HTMLParser\n",
    "html_parser = HTMLParser()\n",
    "from nltk.stem import WordNetLemmatizer, PorterStemmer\n",
    "wordnet_lemmatizer = WordNetLemmatizer()\n",
    "porter = PorterStemmer()\n",
    "\n",
    "import nltk\n",
    "nltk.download('wordnet')"
   ]
  },
  {
   "cell_type": "code",
   "execution_count": 9,
   "metadata": {},
   "outputs": [],
   "source": [
    "\n",
    "\n",
    "def skill_transform(skill, remove_stopwords = True):\n",
    "    # skill = unicode(skill)\n",
    "    skill = unescape(skill)\n",
    "    \n",
    "    skill = skill.replace(\"_\", \" \").split()\n",
    "    skill = \" \".join([sk for sk in skill if sk])\n",
    "    \n",
    "    skill = re.sub(r\"\\(.*\\)\", \"\", skill)\n",
    "    skill = skill.replace(\"-\", \"\") \\\n",
    "        .replace(\".\", \"\") \\\n",
    "        .replace(\",\", \"\") \\\n",
    "        .replace(\"-\", \"\") \\\n",
    "        .replace(\":\", \"\") \\\n",
    "        .replace(\"(\", \"\") \\\n",
    "        .replace(\")\", \"\") \\\n",
    "        .replace(u\"åá\", \"\") \\\n",
    "        .replace(u\"&\", \"and\") \\\n",
    "        .replace(\" js\", \"js\") \\\n",
    "        .replace(\"-js\", \"js\") \\\n",
    "        .replace(\"_js\", \"js\") \\\n",
    "        .replace(\"java script\", \"js\") \n",
    "    \n",
    "    skill = skill.lower()\n",
    "    \n",
    "    # Special cases replace\n",
    "    special_case = {}\n",
    "    special_case[\"javascript\"] = [ \"js\", \"java script\", \"javascripts\", \"java scrip\" ]\n",
    "    special_case[\"wireframe\"] = [ \"wireframes\", \"wire frame\", \"wire frames\", \"wire-frame\", \"wirefram\", \"wire fram\", \"wireframing\" ]\n",
    "    special_case[\"OOP\"] = [  \"object oriented\", \"object oriented programming\", ]\n",
    "    special_case[\"OOD\"] = [ \"object oriented design\", ]\n",
    "    special_case[\"OLAP\"] = [ \"online analytical processing\",  ]\n",
    "    special_case[\"Ecommerce\"] = [ \"e commerce\",  ]\n",
    "    special_case[\"consultant\"] = [ \"consulting\",  ]\n",
    "    special_case[\"ux\"] = [ \"user experience\", \"web user experience design\", \"user experience design\", \"ux designer\", \"user experience/ux\" ]\n",
    "    special_case[\"html5\"] = [ \"html 5\",  ]\n",
    "    special_case[\"j2ee\"] = [ \"jee\",  ]\n",
    "    special_case[\"osx\"] = [ \"mac os x\", \"os x\" ]\n",
    "    special_case[\"senior\"] = [ \"sr\" ]\n",
    "    special_case[\"qa\"] = [ \"quality\",  ]\n",
    "    special_case[\"bigdata\"] = [ \"big data\",  ]\n",
    "    special_case[\"webservice\"] = [ \"webservices\", \"website\", \"webapps\" ]\n",
    "    special_case[\"xml\"] = [ \"xml file\", \"xml schemas\", \"xml/json\", \"xml web service\" ]\n",
    "    special_case[\"bigdata\"] = [ \"big data\",  ]\n",
    "    special_case[\"nlp\"] = [ \"natural language process\", \"natural language\", \"nltk\" ]\n",
    "    for root_skill in special_case:\n",
    "        if skill in special_case[root_skill]:\n",
    "            skill = root_skill\n",
    "    \n",
    "    # Special case regex\n",
    "    special_case_regex = {\n",
    "        r'^angular.*$': 'angularjs',\n",
    "        r'^node.*$': 'nodejs',\n",
    "        r'^(.*)[_\\s]js$': '\\\\1js',\n",
    "        r'^(.*) js$': '\\\\1js',\n",
    "    }\n",
    "    for regex_rule in special_case_regex:\n",
    "        after_skill = re.sub(regex_rule, special_case_regex[regex_rule], skill)\n",
    "        if after_skill != skill:\n",
    "            skill = after_skill\n",
    "            break\n",
    "    \n",
    "    # Stem\n",
    "    if len(skill) > 2:\n",
    "        skill_after = skill.split(\" \")\n",
    "        skill_after = [wordnet_lemmatizer.lemmatize(sk, pos=\"v\") for sk in skill_after]\n",
    "        skill_after = \" \".join(skill_after)\n",
    "        skill = skill_after\n",
    "    \n",
    "    # skill stopwords \n",
    "    if remove_stopwords:\n",
    "        skill_stopwords = [ \"app\", \"touch\", \"the\", \"application\" ]\n",
    "        skill_after = skill.split(\" \")\n",
    "        skill = \" \".join([ sk for sk in skill_after if sk not in skill_stopwords ])\n",
    "    \n",
    "    skill = skill.lower().strip().replace(\" \", \"_\")\n",
    "    skill = re.sub(' +',' ', skill)\n",
    "    \n",
    "    # NOTE: replace js tail\n",
    "    skill = re.sub('js$','', skill)\n",
    "    \n",
    "    return skill"
   ]
  },
  {
   "cell_type": "code",
   "execution_count": 10,
   "metadata": {},
   "outputs": [
    {
     "data": {
      "text/plain": [
       "'javascript'"
      ]
     },
     "execution_count": 10,
     "metadata": {},
     "output_type": "execute_result"
    }
   ],
   "source": [
    "skill_transform(\"js\")"
   ]
  },
  {
   "cell_type": "markdown",
   "metadata": {},
   "source": [
    "### code"
   ]
  },
  {
   "cell_type": "code",
   "execution_count": 11,
   "metadata": {},
   "outputs": [],
   "source": [
    "import pandas as pd\n",
    "import multiprocessing \n",
    "\n",
    "from gensim.models import Word2Vec\n",
    "from gensim.models import KeyedVectors"
   ]
  },
  {
   "cell_type": "code",
   "execution_count": 12,
   "metadata": {},
   "outputs": [],
   "source": [
    "# ## Getting job descriptions only\n",
    "# data = pd.read_csv(\"main_data.csv\")\n",
    "# corpus = data['job_description']\n"
   ]
  },
  {
   "cell_type": "code",
   "execution_count": 13,
   "metadata": {},
   "outputs": [
    {
     "name": "stderr",
     "output_type": "stream",
     "text": [
      "C:\\Users\\My Pc\\AppData\\Local\\Temp\\ipykernel_30780\\2719795079.py:2: DtypeWarning: Columns (34,35,36,37,38,39,40,41,42,43,44,45,46,47,48,49,50,51,52,53,54,55,56,57,58,59,60,61,62,63,64,65,66,67,68,69,70,71,72,73,74,75,76,77,78,79,80,81,82,83,84,85,86,87,88,89,90,91,92,93,94,95,96,97,98,99,100,101,102,103,104,105,106,107,108,109,110,111,112,113,114,115,116,117,118,119,120,121,122,123,124,125,126,127,128,129,130,131,132,133,134,135,136,137,138,139,140,141,142,143,144,145,146,147,148,149,150,151,152,153,154,155,156,157,158,159,160,161,162,163,164,165,166,167,168,169,170,171,172,173,174,175,176,177,178,179,180,181,182,183,184,185,186,187,188,189,190,191,192,193,194,195,196,197,198,199,200,201,202,203,204,205,206,207,208,209,210,211,212,213,214,215,216,217,218,219,220,221,222,223,224,225,226,227,228,229,230,231,232,233,234,235,236,237,238,239,240,241,242,243,244,245,246,247,248,249,250,251,252,253,254,255,256,257,258,259,260,261,262,263,264,265,266,267,268,269,270,271,272,273,274,275,276,277,278,279,280,281,282,283,284,285,286,287,288,289,290,291,292,293,294,295,296,297,298,299,300,301,302,303,304,305,306,307,308,309,310,311,312,313,314,315,316,317,318,319,320,321,322,323,324,325,326,327,328,329,330,331,332,333,334,335,336,337,338,339,340,341,342,343,344,345,346,347,348,349,350,351,352,353,354,355,356,357,358,359,360,361,362,363,364,365,366,367,368,369,370,371,372,373,374,375,376,377,378,379,380,381,382,383,384,385,386,387,388,389,390,391,392,393,394,395,396,397,398,399,400,401,402,403,404,405,406,407,408,409,410,411,412,413,414,415,416,417,418,419,420,421,422,423,424,425,426,427,428,429,430,431,432,433,434,435,436,437,438,439,440,441,442,443,444,445,446,447,448,449,450,451,452,453,454,455,456,457,458,459,460,461,462,463,464,465,466,467,468,469,470,471,472,473,474,475,476,477,478,479,480,481,482,483,484,485,486,487,488,489,490,491,492,493,494,495,496,497,498,499,500,501,502,503,504,505,506,507,508,509,510,511,512,513,514,515,516,517,518,519,520,521,522,523,524,525,526,527,528,529,530,531,532,533,534,535,536,537,538,539,540,541,542,543,544,545,546,547,548,549,550,551,552,553,554,555,556,557,558,559,560,561,562,563,564,565,566,567,568,569,570,571,572,573,574,575,576,577,578,579,580,581,582,583,584,585,586,587,588,589,590,591,592,593,594,595,596,597,598,599,600,601,602,603,604,605,606,607,608,609,610,611,612,613,614,615,616,617,618,619,620,621,622,623,624,625,626,627,628,629,630,631,632,633,634,635,636,637,638,639,640,641,642,643,644,645,646,647,648,649,650,651,652,653,654,655,656,657,658,659,660,661,662,663,664,665,666,667,668,669,670,671,672,673,674,675,676,677,678,679,680,681,682,683,684,685,686,687,688,689,690,691,692,693,694,695,696,697,698,699,700,701,702,703,704,705,706,707,708,709,710,711,712,713,714,715,716,717,718,719,720,721,722,723,724,725,726,727,728,729,730,731,732,733,734,735,736,737,738,739,740,741,742,743,744,745,746,747,748,749,750,751,752,753,754,755,756,757,758,759,760,761,762,763,764,765,766,767,768,769,770,771,772,773,774,775,776,777,778,779,780,781,782,783,784,785,786,787,788,789,790,791,792,793,794,795,796,797,798,799,800,801,802,803,804,805,806,807,808,809,810,811,812,813,814,815,816,817,818,819,820,821,822,823,824,825,826,827,828,829,830,831,832,833,834,835,836,837,838,839,840,841,842,843,844,845,846,847,848,849,850,851,852,853,854,855,856,857,858,859,860,861,862,863,864,865,866,867,868,869,870,871,872,873,874,875,876,877,878,879,880,881,882,883,884,885,886,887,888,889,890,891,892,893,894,895,896,897,898,899,900,901,902,903,904,905,906,907,908,909,910,911,912,913,914,915,916,917,918,919,920,921,922,923,924,925,926,927,928,929,930,931,932,933,934,935,936,937,938,939,940,941,942,943,944,945,946,947,948,949,950,951,952,953,954,955,956,957,958,959,960) have mixed types. Specify dtype option on import or set low_memory=False.\n",
      "  data = pd.read_csv(\"datasets\\zips\\skill2vec_50K.csv\", header=None)\n"
     ]
    },
    {
     "data": {
      "text/html": [
       "<div>\n",
       "<style scoped>\n",
       "    .dataframe tbody tr th:only-of-type {\n",
       "        vertical-align: middle;\n",
       "    }\n",
       "\n",
       "    .dataframe tbody tr th {\n",
       "        vertical-align: top;\n",
       "    }\n",
       "\n",
       "    .dataframe thead th {\n",
       "        text-align: right;\n",
       "    }\n",
       "</style>\n",
       "<table border=\"1\" class=\"dataframe\">\n",
       "  <thead>\n",
       "    <tr style=\"text-align: right;\">\n",
       "      <th></th>\n",
       "      <th>0</th>\n",
       "      <th>1</th>\n",
       "      <th>2</th>\n",
       "      <th>3</th>\n",
       "      <th>4</th>\n",
       "      <th>5</th>\n",
       "      <th>6</th>\n",
       "      <th>7</th>\n",
       "      <th>8</th>\n",
       "      <th>9</th>\n",
       "      <th>...</th>\n",
       "      <th>951</th>\n",
       "      <th>952</th>\n",
       "      <th>953</th>\n",
       "      <th>954</th>\n",
       "      <th>955</th>\n",
       "      <th>956</th>\n",
       "      <th>957</th>\n",
       "      <th>958</th>\n",
       "      <th>959</th>\n",
       "      <th>960</th>\n",
       "    </tr>\n",
       "  </thead>\n",
       "  <tbody>\n",
       "    <tr>\n",
       "      <th>0</th>\n",
       "      <td>125720</td>\n",
       "      <td>HR Executive</td>\n",
       "      <td>screening</td>\n",
       "      <td>selection</td>\n",
       "      <td>Interview</td>\n",
       "      <td>HR</td>\n",
       "      <td>Recruiter</td>\n",
       "      <td>IT Recruiter</td>\n",
       "      <td>Sourcing</td>\n",
       "      <td>recruitment executive</td>\n",
       "      <td>...</td>\n",
       "      <td>NaN</td>\n",
       "      <td>NaN</td>\n",
       "      <td>NaN</td>\n",
       "      <td>NaN</td>\n",
       "      <td>NaN</td>\n",
       "      <td>NaN</td>\n",
       "      <td>NaN</td>\n",
       "      <td>NaN</td>\n",
       "      <td>NaN</td>\n",
       "      <td>NaN</td>\n",
       "    </tr>\n",
       "    <tr>\n",
       "      <th>1</th>\n",
       "      <td>112708</td>\n",
       "      <td>Special Teacher</td>\n",
       "      <td>Teaching</td>\n",
       "      <td>Education</td>\n",
       "      <td>NaN</td>\n",
       "      <td>NaN</td>\n",
       "      <td>NaN</td>\n",
       "      <td>NaN</td>\n",
       "      <td>NaN</td>\n",
       "      <td>NaN</td>\n",
       "      <td>...</td>\n",
       "      <td>NaN</td>\n",
       "      <td>NaN</td>\n",
       "      <td>NaN</td>\n",
       "      <td>NaN</td>\n",
       "      <td>NaN</td>\n",
       "      <td>NaN</td>\n",
       "      <td>NaN</td>\n",
       "      <td>NaN</td>\n",
       "      <td>NaN</td>\n",
       "      <td>NaN</td>\n",
       "    </tr>\n",
       "    <tr>\n",
       "      <th>2</th>\n",
       "      <td>115226</td>\n",
       "      <td>consulting</td>\n",
       "      <td>fresher</td>\n",
       "      <td>IT helpdesk</td>\n",
       "      <td>Techincal Troubleshooting</td>\n",
       "      <td>international voice</td>\n",
       "      <td>international BPO</td>\n",
       "      <td>technical support</td>\n",
       "      <td>outsourcing</td>\n",
       "      <td>call center</td>\n",
       "      <td>...</td>\n",
       "      <td>NaN</td>\n",
       "      <td>NaN</td>\n",
       "      <td>NaN</td>\n",
       "      <td>NaN</td>\n",
       "      <td>NaN</td>\n",
       "      <td>NaN</td>\n",
       "      <td>NaN</td>\n",
       "      <td>NaN</td>\n",
       "      <td>NaN</td>\n",
       "      <td>NaN</td>\n",
       "    </tr>\n",
       "    <tr>\n",
       "      <th>3</th>\n",
       "      <td>19805</td>\n",
       "      <td>diploma</td>\n",
       "      <td>machining</td>\n",
       "      <td>cnc m</td>\n",
       "      <td>mould</td>\n",
       "      <td>conventional machines</td>\n",
       "      <td>die making</td>\n",
       "      <td>knowledge</td>\n",
       "      <td>tool</td>\n",
       "      <td>cipet</td>\n",
       "      <td>...</td>\n",
       "      <td>NaN</td>\n",
       "      <td>NaN</td>\n",
       "      <td>NaN</td>\n",
       "      <td>NaN</td>\n",
       "      <td>NaN</td>\n",
       "      <td>NaN</td>\n",
       "      <td>NaN</td>\n",
       "      <td>NaN</td>\n",
       "      <td>NaN</td>\n",
       "      <td>NaN</td>\n",
       "    </tr>\n",
       "    <tr>\n",
       "      <th>4</th>\n",
       "      <td>80208</td>\n",
       "      <td>Compensation</td>\n",
       "      <td>Benefits</td>\n",
       "      <td>HR Functions</td>\n",
       "      <td>Alm</td>\n",
       "      <td>Payroll</td>\n",
       "      <td>ESS</td>\n",
       "      <td>Core HR</td>\n",
       "      <td>QC</td>\n",
       "      <td>QA</td>\n",
       "      <td>...</td>\n",
       "      <td>NaN</td>\n",
       "      <td>NaN</td>\n",
       "      <td>NaN</td>\n",
       "      <td>NaN</td>\n",
       "      <td>NaN</td>\n",
       "      <td>NaN</td>\n",
       "      <td>NaN</td>\n",
       "      <td>NaN</td>\n",
       "      <td>NaN</td>\n",
       "      <td>NaN</td>\n",
       "    </tr>\n",
       "  </tbody>\n",
       "</table>\n",
       "<p>5 rows × 961 columns</p>\n",
       "</div>"
      ],
      "text/plain": [
       "      0                1          2             3    \\\n",
       "0  125720     HR Executive  screening     selection   \n",
       "1  112708  Special Teacher   Teaching     Education   \n",
       "2  115226       consulting    fresher   IT helpdesk   \n",
       "3   19805          diploma  machining         cnc m   \n",
       "4   80208     Compensation   Benefits  HR Functions   \n",
       "\n",
       "                         4                      5                  6    \\\n",
       "0                  Interview                     HR          Recruiter   \n",
       "1                        NaN                    NaN                NaN   \n",
       "2  Techincal Troubleshooting    international voice  international BPO   \n",
       "3                      mould  conventional machines         die making   \n",
       "4                        Alm                Payroll                ESS   \n",
       "\n",
       "                 7            8                      9    ...  951  952  953  \\\n",
       "0       IT Recruiter     Sourcing  recruitment executive  ...  NaN  NaN  NaN   \n",
       "1                NaN          NaN                    NaN  ...  NaN  NaN  NaN   \n",
       "2  technical support  outsourcing            call center  ...  NaN  NaN  NaN   \n",
       "3          knowledge         tool                  cipet  ...  NaN  NaN  NaN   \n",
       "4            Core HR           QC                     QA  ...  NaN  NaN  NaN   \n",
       "\n",
       "   954  955  956  957  958  959  960  \n",
       "0  NaN  NaN  NaN  NaN  NaN  NaN  NaN  \n",
       "1  NaN  NaN  NaN  NaN  NaN  NaN  NaN  \n",
       "2  NaN  NaN  NaN  NaN  NaN  NaN  NaN  \n",
       "3  NaN  NaN  NaN  NaN  NaN  NaN  NaN  \n",
       "4  NaN  NaN  NaN  NaN  NaN  NaN  NaN  \n",
       "\n",
       "[5 rows x 961 columns]"
      ]
     },
     "execution_count": 13,
     "metadata": {},
     "output_type": "execute_result"
    }
   ],
   "source": [
    "## Loading skill2vec dataset as corpus\n",
    "data = pd.read_csv(\"datasets\\zips\\skill2vec_50K.csv\", header=None)\n",
    "columns=data.columns\n",
    "data.head()"
   ]
  },
  {
   "cell_type": "code",
   "execution_count": 14,
   "metadata": {},
   "outputs": [
    {
     "data": {
      "text/plain": [
       "(50000, 961)"
      ]
     },
     "execution_count": 14,
     "metadata": {},
     "output_type": "execute_result"
    }
   ],
   "source": [
    "data.shape"
   ]
  },
  {
   "cell_type": "code",
   "execution_count": 15,
   "metadata": {},
   "outputs": [],
   "source": [
    "corpus = data[columns[1:]].map(str).values"
   ]
  },
  {
   "cell_type": "code",
   "execution_count": 85,
   "metadata": {},
   "outputs": [],
   "source": [
    "new_corpus = []\n",
    "for n,sentence in enumerate(corpus):\n",
    "    temp = [word for word in sentence if word != 'nan']\n",
    "    new_corpus.append(temp)\n",
    "new_corpus.append('<OOV>')"
   ]
  },
  {
   "cell_type": "code",
   "execution_count": 86,
   "metadata": {},
   "outputs": [],
   "source": [
    "import numpy as np"
   ]
  },
  {
   "cell_type": "code",
   "execution_count": 87,
   "metadata": {},
   "outputs": [
    {
     "data": {
      "text/plain": [
       "(50000, 960)"
      ]
     },
     "execution_count": 87,
     "metadata": {},
     "output_type": "execute_result"
    }
   ],
   "source": [
    "np.array(corpus).shape"
   ]
  },
  {
   "cell_type": "code",
   "execution_count": 88,
   "metadata": {},
   "outputs": [],
   "source": [
    "array  = np.empty(960, dtype=object)\n",
    "array[:] = str(np.nan)"
   ]
  },
  {
   "cell_type": "code",
   "execution_count": 89,
   "metadata": {},
   "outputs": [
    {
     "data": {
      "text/plain": [
       "array(['nan', 'nan', 'nan', 'nan', 'nan'], dtype=object)"
      ]
     },
     "execution_count": 89,
     "metadata": {},
     "output_type": "execute_result"
    }
   ],
   "source": [
    "array[:5]"
   ]
  },
  {
   "cell_type": "code",
   "execution_count": null,
   "metadata": {},
   "outputs": [],
   "source": []
  },
  {
   "cell_type": "code",
   "execution_count": 90,
   "metadata": {},
   "outputs": [],
   "source": [
    "## Creating skills vocabulary using data from naukri (as done in skill2vec)\n",
    "skills_tokens = []\n",
    "with open('naukri_skill_full.txt') as naukri:\n",
    "    next(naukri)\n",
    "    past = 0; temp=[]\n",
    "    for n,i in enumerate(naukri):\n",
    "        current = int(i.split(',')[0])\n",
    "        skill = i.lower().split(',')[1].strip()\n",
    "        if past < current:\n",
    "            past = current\n",
    "            skills_tokens.append(temp)\n",
    "            temp=[]\n",
    "        else:\n",
    "            temp.append(skill)"
   ]
  },
  {
   "cell_type": "code",
   "execution_count": 91,
   "metadata": {},
   "outputs": [
    {
     "data": {
      "text/plain": [
       "120106"
      ]
     },
     "execution_count": 91,
     "metadata": {},
     "output_type": "execute_result"
    }
   ],
   "source": [
    "len(skills_tokens)"
   ]
  },
  {
   "cell_type": "code",
   "execution_count": 92,
   "metadata": {},
   "outputs": [
    {
     "data": {
      "text/plain": [
       "array(['HR Executive', 'screening', 'selection', 'Interview', 'HR',\n",
       "       'Recruiter', 'IT Recruiter', 'Sourcing', 'recruitment executive',\n",
       "       'onboarding', 'IT Recruitment', 'nan', 'nan', 'nan', 'nan', 'nan',\n",
       "       'nan', 'nan', 'nan', 'nan', 'nan', 'nan', 'nan', 'nan', 'nan',\n",
       "       'nan', 'nan', 'nan', 'nan', 'nan', 'nan', 'nan', 'nan', 'nan',\n",
       "       'nan', 'nan', 'nan', 'nan', 'nan', 'nan', 'nan', 'nan', 'nan',\n",
       "       'nan', 'nan', 'nan', 'nan', 'nan', 'nan', 'nan', 'nan', 'nan',\n",
       "       'nan', 'nan', 'nan', 'nan', 'nan', 'nan', 'nan', 'nan', 'nan',\n",
       "       'nan', 'nan', 'nan', 'nan', 'nan', 'nan', 'nan', 'nan', 'nan',\n",
       "       'nan', 'nan', 'nan', 'nan', 'nan', 'nan', 'nan', 'nan', 'nan',\n",
       "       'nan', 'nan', 'nan', 'nan', 'nan', 'nan', 'nan', 'nan', 'nan',\n",
       "       'nan', 'nan', 'nan', 'nan', 'nan', 'nan', 'nan', 'nan', 'nan',\n",
       "       'nan', 'nan', 'nan', 'nan', 'nan', 'nan', 'nan', 'nan', 'nan',\n",
       "       'nan', 'nan', 'nan', 'nan', 'nan', 'nan', 'nan', 'nan', 'nan',\n",
       "       'nan', 'nan', 'nan', 'nan', 'nan', 'nan', 'nan', 'nan', 'nan',\n",
       "       'nan', 'nan', 'nan', 'nan', 'nan', 'nan', 'nan', 'nan', 'nan',\n",
       "       'nan', 'nan', 'nan', 'nan', 'nan', 'nan', 'nan', 'nan', 'nan',\n",
       "       'nan', 'nan', 'nan', 'nan', 'nan', 'nan', 'nan', 'nan', 'nan',\n",
       "       'nan', 'nan', 'nan', 'nan', 'nan', 'nan', 'nan', 'nan', 'nan',\n",
       "       'nan', 'nan', 'nan', 'nan', 'nan', 'nan', 'nan', 'nan', 'nan',\n",
       "       'nan', 'nan', 'nan', 'nan', 'nan', 'nan', 'nan', 'nan', 'nan',\n",
       "       'nan', 'nan', 'nan', 'nan', 'nan', 'nan', 'nan', 'nan', 'nan',\n",
       "       'nan', 'nan', 'nan', 'nan', 'nan', 'nan', 'nan', 'nan', 'nan',\n",
       "       'nan', 'nan', 'nan', 'nan', 'nan', 'nan', 'nan', 'nan', 'nan',\n",
       "       'nan', 'nan', 'nan', 'nan', 'nan', 'nan', 'nan', 'nan', 'nan',\n",
       "       'nan', 'nan', 'nan', 'nan', 'nan', 'nan', 'nan', 'nan', 'nan',\n",
       "       'nan', 'nan', 'nan', 'nan', 'nan', 'nan', 'nan', 'nan', 'nan',\n",
       "       'nan', 'nan', 'nan', 'nan', 'nan', 'nan', 'nan', 'nan', 'nan',\n",
       "       'nan', 'nan', 'nan', 'nan', 'nan', 'nan', 'nan', 'nan', 'nan',\n",
       "       'nan', 'nan', 'nan', 'nan', 'nan', 'nan', 'nan', 'nan', 'nan',\n",
       "       'nan', 'nan', 'nan', 'nan', 'nan', 'nan', 'nan', 'nan', 'nan',\n",
       "       'nan', 'nan', 'nan', 'nan', 'nan', 'nan', 'nan', 'nan', 'nan',\n",
       "       'nan', 'nan', 'nan', 'nan', 'nan', 'nan', 'nan', 'nan', 'nan',\n",
       "       'nan', 'nan', 'nan', 'nan', 'nan', 'nan', 'nan', 'nan', 'nan',\n",
       "       'nan', 'nan', 'nan', 'nan', 'nan', 'nan', 'nan', 'nan', 'nan',\n",
       "       'nan', 'nan', 'nan', 'nan', 'nan', 'nan', 'nan', 'nan', 'nan',\n",
       "       'nan', 'nan', 'nan', 'nan', 'nan', 'nan', 'nan', 'nan', 'nan',\n",
       "       'nan', 'nan', 'nan', 'nan', 'nan', 'nan', 'nan', 'nan', 'nan',\n",
       "       'nan', 'nan', 'nan', 'nan', 'nan', 'nan', 'nan', 'nan', 'nan',\n",
       "       'nan', 'nan', 'nan', 'nan', 'nan', 'nan', 'nan', 'nan', 'nan',\n",
       "       'nan', 'nan', 'nan', 'nan', 'nan', 'nan', 'nan', 'nan', 'nan',\n",
       "       'nan', 'nan', 'nan', 'nan', 'nan', 'nan', 'nan', 'nan', 'nan',\n",
       "       'nan', 'nan', 'nan', 'nan', 'nan', 'nan', 'nan', 'nan', 'nan',\n",
       "       'nan', 'nan', 'nan', 'nan', 'nan', 'nan', 'nan', 'nan', 'nan',\n",
       "       'nan', 'nan', 'nan', 'nan', 'nan', 'nan', 'nan', 'nan', 'nan',\n",
       "       'nan', 'nan', 'nan', 'nan', 'nan', 'nan', 'nan', 'nan', 'nan',\n",
       "       'nan', 'nan', 'nan', 'nan', 'nan', 'nan', 'nan', 'nan', 'nan',\n",
       "       'nan', 'nan', 'nan', 'nan', 'nan', 'nan', 'nan', 'nan', 'nan',\n",
       "       'nan', 'nan', 'nan', 'nan', 'nan', 'nan', 'nan', 'nan', 'nan',\n",
       "       'nan', 'nan', 'nan', 'nan', 'nan', 'nan', 'nan', 'nan', 'nan',\n",
       "       'nan', 'nan', 'nan', 'nan', 'nan', 'nan', 'nan', 'nan', 'nan',\n",
       "       'nan', 'nan', 'nan', 'nan', 'nan', 'nan', 'nan', 'nan', 'nan',\n",
       "       'nan', 'nan', 'nan', 'nan', 'nan', 'nan', 'nan', 'nan', 'nan',\n",
       "       'nan', 'nan', 'nan', 'nan', 'nan', 'nan', 'nan', 'nan', 'nan',\n",
       "       'nan', 'nan', 'nan', 'nan', 'nan', 'nan', 'nan', 'nan', 'nan',\n",
       "       'nan', 'nan', 'nan', 'nan', 'nan', 'nan', 'nan', 'nan', 'nan',\n",
       "       'nan', 'nan', 'nan', 'nan', 'nan', 'nan', 'nan', 'nan', 'nan',\n",
       "       'nan', 'nan', 'nan', 'nan', 'nan', 'nan', 'nan', 'nan', 'nan',\n",
       "       'nan', 'nan', 'nan', 'nan', 'nan', 'nan', 'nan', 'nan', 'nan',\n",
       "       'nan', 'nan', 'nan', 'nan', 'nan', 'nan', 'nan', 'nan', 'nan',\n",
       "       'nan', 'nan', 'nan', 'nan', 'nan', 'nan', 'nan', 'nan', 'nan',\n",
       "       'nan', 'nan', 'nan', 'nan', 'nan', 'nan', 'nan', 'nan', 'nan',\n",
       "       'nan', 'nan', 'nan', 'nan', 'nan', 'nan', 'nan', 'nan', 'nan',\n",
       "       'nan', 'nan', 'nan', 'nan', 'nan', 'nan', 'nan', 'nan', 'nan',\n",
       "       'nan', 'nan', 'nan', 'nan', 'nan', 'nan', 'nan', 'nan', 'nan',\n",
       "       'nan', 'nan', 'nan', 'nan', 'nan', 'nan', 'nan', 'nan', 'nan',\n",
       "       'nan', 'nan', 'nan', 'nan', 'nan', 'nan', 'nan', 'nan', 'nan',\n",
       "       'nan', 'nan', 'nan', 'nan', 'nan', 'nan', 'nan', 'nan', 'nan',\n",
       "       'nan', 'nan', 'nan', 'nan', 'nan', 'nan', 'nan', 'nan', 'nan',\n",
       "       'nan', 'nan', 'nan', 'nan', 'nan', 'nan', 'nan', 'nan', 'nan',\n",
       "       'nan', 'nan', 'nan', 'nan', 'nan', 'nan', 'nan', 'nan', 'nan',\n",
       "       'nan', 'nan', 'nan', 'nan', 'nan', 'nan', 'nan', 'nan', 'nan',\n",
       "       'nan', 'nan', 'nan', 'nan', 'nan', 'nan', 'nan', 'nan', 'nan',\n",
       "       'nan', 'nan', 'nan', 'nan', 'nan', 'nan', 'nan', 'nan', 'nan',\n",
       "       'nan', 'nan', 'nan', 'nan', 'nan', 'nan', 'nan', 'nan', 'nan',\n",
       "       'nan', 'nan', 'nan', 'nan', 'nan', 'nan', 'nan', 'nan', 'nan',\n",
       "       'nan', 'nan', 'nan', 'nan', 'nan', 'nan', 'nan', 'nan', 'nan',\n",
       "       'nan', 'nan', 'nan', 'nan', 'nan', 'nan', 'nan', 'nan', 'nan',\n",
       "       'nan', 'nan', 'nan', 'nan', 'nan', 'nan', 'nan', 'nan', 'nan',\n",
       "       'nan', 'nan', 'nan', 'nan', 'nan', 'nan', 'nan', 'nan', 'nan',\n",
       "       'nan', 'nan', 'nan', 'nan', 'nan', 'nan', 'nan', 'nan', 'nan',\n",
       "       'nan', 'nan', 'nan', 'nan', 'nan', 'nan', 'nan', 'nan', 'nan',\n",
       "       'nan', 'nan', 'nan', 'nan', 'nan', 'nan', 'nan', 'nan', 'nan',\n",
       "       'nan', 'nan', 'nan', 'nan', 'nan', 'nan', 'nan', 'nan', 'nan',\n",
       "       'nan', 'nan', 'nan', 'nan', 'nan', 'nan', 'nan', 'nan', 'nan',\n",
       "       'nan', 'nan', 'nan', 'nan', 'nan', 'nan', 'nan', 'nan', 'nan',\n",
       "       'nan', 'nan', 'nan', 'nan', 'nan', 'nan', 'nan', 'nan', 'nan',\n",
       "       'nan', 'nan', 'nan', 'nan', 'nan', 'nan', 'nan', 'nan', 'nan',\n",
       "       'nan', 'nan', 'nan', 'nan', 'nan', 'nan', 'nan', 'nan', 'nan',\n",
       "       'nan', 'nan', 'nan', 'nan', 'nan', 'nan', 'nan', 'nan', 'nan',\n",
       "       'nan', 'nan', 'nan', 'nan', 'nan', 'nan', 'nan', 'nan', 'nan',\n",
       "       'nan', 'nan', 'nan', 'nan', 'nan', 'nan', 'nan', 'nan', 'nan',\n",
       "       'nan', 'nan', 'nan', 'nan', 'nan', 'nan', 'nan', 'nan', 'nan',\n",
       "       'nan', 'nan', 'nan', 'nan', 'nan', 'nan', 'nan', 'nan', 'nan',\n",
       "       'nan', 'nan', 'nan', 'nan', 'nan', 'nan', 'nan', 'nan', 'nan',\n",
       "       'nan', 'nan', 'nan', 'nan', 'nan', 'nan', 'nan', 'nan', 'nan',\n",
       "       'nan', 'nan', 'nan', 'nan', 'nan', 'nan', 'nan', 'nan', 'nan',\n",
       "       'nan', 'nan', 'nan', 'nan', 'nan', 'nan', 'nan', 'nan', 'nan',\n",
       "       'nan', 'nan', 'nan', 'nan', 'nan', 'nan', 'nan', 'nan', 'nan',\n",
       "       'nan', 'nan', 'nan', 'nan', 'nan', 'nan', 'nan', 'nan', 'nan',\n",
       "       'nan', 'nan', 'nan', 'nan', 'nan', 'nan', 'nan', 'nan', 'nan',\n",
       "       'nan', 'nan', 'nan', 'nan', 'nan', 'nan', 'nan', 'nan', 'nan',\n",
       "       'nan', 'nan', 'nan', 'nan', 'nan', 'nan', 'nan', 'nan', 'nan',\n",
       "       'nan', 'nan', 'nan', 'nan', 'nan', 'nan', 'nan', 'nan', 'nan',\n",
       "       'nan', 'nan', 'nan', 'nan', 'nan', 'nan', 'nan', 'nan', 'nan',\n",
       "       'nan', 'nan', 'nan', 'nan', 'nan', 'nan', 'nan', 'nan', 'nan',\n",
       "       'nan', 'nan', 'nan', 'nan', 'nan', 'nan', 'nan', 'nan', 'nan',\n",
       "       'nan', 'nan', 'nan', 'nan', 'nan', 'nan', 'nan', 'nan'],\n",
       "      dtype=object)"
      ]
     },
     "execution_count": 92,
     "metadata": {},
     "output_type": "execute_result"
    }
   ],
   "source": [
    "corpus[0]"
   ]
  },
  {
   "cell_type": "code",
   "execution_count": 96,
   "metadata": {},
   "outputs": [],
   "source": [
    "## Creating skills vocabulary using data from naukri (as done in skill2vec)\n",
    "past = 0; temp=[]\n",
    "for n,sentence in enumerate(corpus):\n",
    "    for word in sentence:\n",
    "        if word == 'nan': break\n",
    "        temp.append(word.lower().strip().replace(' ','_'))\n",
    "    skills_tokens.append(temp)\n",
    "    temp=[]\n",
    "\n",
    "skills_tokens.append('<OOV>')"
   ]
  },
  {
   "cell_type": "code",
   "execution_count": 97,
   "metadata": {},
   "outputs": [
    {
     "data": {
      "text/plain": [
       "220108"
      ]
     },
     "execution_count": 97,
     "metadata": {},
     "output_type": "execute_result"
    }
   ],
   "source": [
    "len(skills_tokens)"
   ]
  },
  {
   "cell_type": "code",
   "execution_count": 98,
   "metadata": {},
   "outputs": [],
   "source": [
    "## Training Word2Vec\n",
    "\n",
    "model = Word2Vec(sentences=skills_tokens, vector_size=1000, window=10,\n",
    "                  min_count=5, workers=multiprocessing.cpu_count(), sg=1,\n",
    "                  max_vocab_size = None,\n",
    "                  sample = 1e-3,  # Downsample setting for frequent words\n",
    "                  )\n",
    "\n",
    "\n"
   ]
  },
  {
   "cell_type": "code",
   "execution_count": 99,
   "metadata": {},
   "outputs": [],
   "source": [
    "import csv\n",
    "mydict = model.wv.key_to_index\n",
    "with open('skill2skill_vocab.csv', 'w') as csv_file:  \n",
    "    writer = csv.writer(csv_file)\n",
    "    for key, value in mydict.items():\n",
    "       writer.writerow([key, value])"
   ]
  },
  {
   "cell_type": "code",
   "execution_count": 100,
   "metadata": {},
   "outputs": [
    {
     "data": {
      "text/plain": [
       "(21311780, 46376900)"
      ]
     },
     "execution_count": 100,
     "metadata": {},
     "output_type": "execute_result"
    }
   ],
   "source": [
    "epochs = 100\n",
    "model.train(new_corpus, total_examples=len(new_corpus), epochs=epochs)"
   ]
  },
  {
   "cell_type": "code",
   "execution_count": 101,
   "metadata": {},
   "outputs": [],
   "source": [
    "## Function to process given array of skills to match those in model vocabulary\n",
    "def process_input_skills(array, unique_words=model.wv.key_to_index):\n",
    "    return [word for word in array if word in unique_words]"
   ]
  },
  {
   "cell_type": "markdown",
   "metadata": {},
   "source": [
    "### Testing"
   ]
  },
  {
   "cell_type": "code",
   "execution_count": 102,
   "metadata": {},
   "outputs": [
    {
     "name": "stdout",
     "output_type": "stream",
     "text": [
      "['react']\n"
     ]
    }
   ],
   "source": [
    "input_array = ['react']\n",
    "input_array = process_input_skills(input_array)\n",
    "print(input_array)\n"
   ]
  },
  {
   "cell_type": "code",
   "execution_count": 103,
   "metadata": {},
   "outputs": [
    {
     "data": {
      "text/plain": [
       "[('ember', 0.7676061391830444),\n",
       " ('bs/ms_in_computer_science', 0.6903502345085144),\n",
       " ('ui architect', 0.6860243082046509),\n",
       " ('ui_developer', 0.6588703393936157),\n",
       " ('backbonejs', 0.6541723608970642),\n",
       " ('javascript_development', 0.6529032588005066),\n",
       " ('ui_engineer', 0.6529011726379395),\n",
       " ('object_oriented_javascript', 0.6522514224052429),\n",
       " ('ionic_framework', 0.6496110558509827),\n",
       " ('backend_developer', 0.6480308771133423),\n",
       " ('bem', 0.6479196548461914),\n",
       " ('ejs', 0.6478567123413086),\n",
       " ('angular - js', 0.6474431157112122),\n",
       " ('full stack development', 0.6470673084259033),\n",
       " ('ionic framework', 0.6456071734428406),\n",
       " ('oocss', 0.6444732546806335),\n",
       " ('underscorejs', 0.6439031958580017),\n",
       " ('front_end_programming', 0.643677294254303),\n",
       " ('advanced javascript', 0.6434355974197388),\n",
       " ('loopback', 0.6428085565567017),\n",
       " ('user_interface_development', 0.6425285935401917),\n",
       " ('senior_software_developer', 0.6424779891967773),\n",
       " ('ubuntu_linux', 0.642259418964386),\n",
       " ('front_-_end', 0.6421633362770081),\n",
       " ('javascript_developer', 0.6417009830474854),\n",
       " ('node.js developer', 0.6414545178413391),\n",
       " ('postcss', 0.6413135528564453),\n",
       " ('javascript framework', 0.6412267088890076),\n",
       " ('knockout.js', 0.641152024269104),\n",
       " ('frontend_developer', 0.6408579349517822),\n",
       " ('javascript development', 0.6406856179237366),\n",
       " ('node.js_developer', 0.6391897201538086),\n",
       " ('full_stack_developer', 0.6391604542732239),\n",
       " ('knockout', 0.6391004920005798),\n",
       " ('javascript frameworks', 0.6388202905654907),\n",
       " ('ajex', 0.6386100053787231),\n",
       " ('mongo_database', 0.6384261846542358),\n",
       " ('angular_-_js', 0.6384012699127197),\n",
       " ('angular_html', 0.638123631477356),\n",
       " ('senior programmer', 0.637092113494873),\n",
       " ('react native', 0.6369176506996155),\n",
       " ('ui_architect', 0.6369059085845947),\n",
       " ('ruby_rails', 0.6368959546089172),\n",
       " ('javascipt', 0.6365879774093628),\n",
       " ('it_developer', 0.6363315582275391),\n",
       " ('it_software_-_middleware', 0.6358844041824341),\n",
       " ('react_js', 0.6354208588600159),\n",
       " ('mustache', 0.6352773308753967),\n",
       " ('network_integration', 0.6350924372673035),\n",
       " ('.net_mvc', 0.6350796222686768)]"
      ]
     },
     "execution_count": 103,
     "metadata": {},
     "output_type": "execute_result"
    }
   ],
   "source": [
    "sims = model.wv.most_similar(input_array, topn=50)  # get other similar words\n",
    "sims"
   ]
  },
  {
   "cell_type": "code",
   "execution_count": 104,
   "metadata": {},
   "outputs": [
    {
     "name": "stdout",
     "output_type": "stream",
     "text": [
      "['big data']\n"
     ]
    }
   ],
   "source": [
    "input_array = ['big data']\n",
    "input_array = process_input_skills(input_array)\n",
    "print(input_array)\n"
   ]
  },
  {
   "cell_type": "code",
   "execution_count": 105,
   "metadata": {},
   "outputs": [
    {
     "data": {
      "text/plain": [
       "[('hadoop developer', 0.653005838394165),\n",
       " ('big data developer', 0.6233953833580017),\n",
       " ('data science', 0.6181904077529907),\n",
       " ('sqoop', 0.616910457611084),\n",
       " ('internet of things', 0.6154631972312927),\n",
       " ('data visualization', 0.607971727848053),\n",
       " ('text mining', 0.5914995670318604),\n",
       " ('memcache', 0.5866114497184753),\n",
       " ('hadoop administrator', 0.58518385887146),\n",
       " ('big data analytics', 0.5834461450576782),\n",
       " ('analytics head', 0.5722721815109253),\n",
       " ('data engineer', 0.5713565945625305),\n",
       " ('head_technology', 0.5711469054222107),\n",
       " ('data scientist', 0.5703405737876892),\n",
       " ('oozie', 0.5702028274536133),\n",
       " ('technology lead', 0.5694548487663269),\n",
       " ('research scientist', 0.5683020949363708),\n",
       " ('bi tools', 0.567374050617218),\n",
       " ('business modeling', 0.5650791525840759),\n",
       " ('computer vision', 0.5646675229072571),\n",
       " ('cloud security', 0.5645372867584229),\n",
       " ('neural networks', 0.5618587732315063),\n",
       " ('data engineering', 0.5585853457450867),\n",
       " ('big data architect', 0.5577201247215271),\n",
       " ('torch', 0.5555649995803833),\n",
       " ('r_studio', 0.5543984174728394),\n",
       " ('corporate trainer', 0.5528006553649902),\n",
       " ('keras', 0.5524125099182129),\n",
       " ('data profiling', 0.5502088665962219),\n",
       " ('predictive modelling', 0.5491457581520081),\n",
       " ('deep learning', 0.549120306968689),\n",
       " ('smac', 0.5464653372764587),\n",
       " ('android app developer', 0.5463024377822876),\n",
       " ('technology leadership', 0.5451533794403076),\n",
       " ('kxen', 0.5430952906608582),\n",
       " ('operations research', 0.542339563369751),\n",
       " ('cluster analysis', 0.5423220992088318),\n",
       " ('analytics manager', 0.5415903925895691),\n",
       " ('m2m', 0.5414524078369141),\n",
       " ('revolution analytics', 0.5411048531532288),\n",
       " ('random forest', 0.5410474538803101),\n",
       " ('backend development', 0.5394770503044128),\n",
       " ('eclipse modeling', 0.5390306115150452),\n",
       " ('apache spark', 0.5388197898864746),\n",
       " ('data lineage', 0.5381680130958557),\n",
       " ('sparks', 0.5365697145462036),\n",
       " ('analytical techniques', 0.5355050563812256),\n",
       " ('crawling', 0.5353797674179077),\n",
       " ('mapr', 0.5352599620819092),\n",
       " ('r programming', 0.5343535542488098)]"
      ]
     },
     "execution_count": 105,
     "metadata": {},
     "output_type": "execute_result"
    }
   ],
   "source": [
    "sims = model.wv.most_similar(input_array, topn=50)  # get other similar words\n",
    "sims"
   ]
  },
  {
   "cell_type": "code",
   "execution_count": 106,
   "metadata": {},
   "outputs": [
    {
     "name": "stdout",
     "output_type": "stream",
     "text": [
      "50\n"
     ]
    }
   ],
   "source": [
    "input_array = [x.strip() for x in ['leadership ','project management','time management ','communication ','collaboration ',\n",
    "                             'creativity ','innovation ','strategy ','marketing ','networking ','social media ',\n",
    "                             'technology ','computer literacy ','microsoft office ','google workspace ','design ',\n",
    "                             'art ','video editing ','photography ','animation ','app development ','coding ',\n",
    "                             'website development ','seo ','analytics ','research ','copywriting ','content creation ','advertising ',\n",
    "                             'event planning ','sales ','negotiation ','customer service ','motivation ','teamwork ','energy ','ambition ',\n",
    "                             'initiative ','organization ','planning ','attention to detail ','accountability ','flexibility ','determination ',\n",
    "                             'selfmotivation ','research ','analytical skills','problemsolving','decisionmaking','time management']]\n",
    "print(len(input_array))\n"
   ]
  },
  {
   "cell_type": "code",
   "execution_count": 107,
   "metadata": {},
   "outputs": [
    {
     "name": "stdout",
     "output_type": "stream",
     "text": [
      "44\n"
     ]
    }
   ],
   "source": [
    "input_array = process_input_skills(input_array)\n",
    "print(len(input_array))"
   ]
  },
  {
   "cell_type": "code",
   "execution_count": 108,
   "metadata": {},
   "outputs": [
    {
     "name": "stdout",
     "output_type": "stream",
     "text": [
      "['leadership', 'project management', 'time management', 'communication', 'collaboration', 'creativity', 'innovation', 'strategy', 'marketing', 'networking', 'social media', 'technology', 'computer literacy', 'microsoft office', 'design', 'art', 'video editing', 'photography', 'animation', 'app development', 'coding', 'website development', 'seo', 'analytics', 'research', 'copywriting', 'content creation', 'advertising', 'event planning', 'sales', 'negotiation', 'customer service', 'motivation', 'teamwork', 'energy', 'initiative', 'organization', 'planning', 'attention to detail', 'accountability', 'flexibility', 'research', 'analytical skills', 'time management']\n"
     ]
    }
   ],
   "source": [
    "print(input_array)"
   ]
  },
  {
   "cell_type": "code",
   "execution_count": 109,
   "metadata": {},
   "outputs": [
    {
     "data": {
      "text/plain": [
       "[('simcorp', 0.8670627474784851),\n",
       " ('product managment', 0.8658574819564819),\n",
       " ('service training', 0.865833044052124),\n",
       " ('social media strategy', 0.8657412528991699),\n",
       " ('sql)', 0.8595597743988037),\n",
       " ('editors', 0.8575200438499451),\n",
       " ('voice over', 0.8573565483093262),\n",
       " ('brand_activation', 0.8565623760223389),\n",
       " ('software management', 0.8541700839996338),\n",
       " ('marketing consulting', 0.8540982007980347),\n",
       " ('landscape', 0.8495779037475586),\n",
       " ('ppt specialist', 0.8464378714561462),\n",
       " ('press', 0.8430401086807251),\n",
       " ('good_management_skills', 0.8409722447395325),\n",
       " ('marcomm', 0.8397191762924194),\n",
       " ('hindi content writer', 0.8387012481689453),\n",
       " ('events manager', 0.8382368087768555),\n",
       " ('ppt_specialist', 0.8375952243804932),\n",
       " ('consumer behaviour', 0.8361325860023499),\n",
       " ('infrastructure management services ims - windows - os', 0.8322429060935974),\n",
       " ('engagement manager', 0.8314080834388733),\n",
       " ('pr management', 0.8311329483985901),\n",
       " ('business_unit', 0.8304885625839233),\n",
       " ('news editor', 0.8296859860420227),\n",
       " ('marketing_content', 0.8296388387680054),\n",
       " ('mainframe cobol', 0.8282598257064819),\n",
       " ('strategic marketing planning', 0.8253349661827087),\n",
       " ('pr campaigns', 0.8245499730110168),\n",
       " ('ebooks', 0.8237806558609009),\n",
       " ('marketing_services', 0.8225595355033875),\n",
       " ('business studies', 0.8216365575790405),\n",
       " ('catalogue', 0.8214666843414307),\n",
       " ('designers', 0.8214594721794128),\n",
       " ('&amp;quot ; medical representative', 0.8203579187393188),\n",
       " ('good_technical_knowledge', 0.8200033903121948),\n",
       " ('link exchange', 0.8197523355484009),\n",
       " ('reports_preparation', 0.8196359872817993),\n",
       " ('keen_learner', 0.8182768225669861),\n",
       " ('technical skills - sku - java - java - tl', 0.8171934485435486),\n",
       " ('director_marketing', 0.8162947297096252),\n",
       " ('keywords', 0.8161784410476685),\n",
       " ('.net angular js', 0.816175103187561),\n",
       " ('mobile_app_marketing', 0.8153378963470459),\n",
       " ('digital communication', 0.815216064453125),\n",
       " ('sap sales and distribution', 0.8138296604156494),\n",
       " ('strategy manager', 0.8137637376785278),\n",
       " ('content generation', 0.8134690523147583),\n",
       " ('writing_content', 0.8132062554359436),\n",
       " ('bserv', 0.8129288554191589),\n",
       " ('digital marketing head', 0.8122721910476685)]"
      ]
     },
     "execution_count": 109,
     "metadata": {},
     "output_type": "execute_result"
    }
   ],
   "source": [
    "model.wv.most_similar(input_array, topn=50)  # get other similar words"
   ]
  },
  {
   "cell_type": "markdown",
   "metadata": {},
   "source": [
    "### Saving Embedded words and model"
   ]
  },
  {
   "cell_type": "code",
   "execution_count": 138,
   "metadata": {},
   "outputs": [
    {
     "data": {
      "text/plain": [
       "array([-2.39140004e-01, -4.96533185e-01, -3.42141390e-01,  1.90929070e-01,\n",
       "        1.44239411e-01, -2.48897642e-01, -7.03519806e-02,  3.29023525e-02,\n",
       "        1.53483346e-01, -4.96081173e-01,  1.33381747e-02,  4.76313680e-01,\n",
       "       -1.07068963e-01, -3.95227075e-01,  6.15308702e-01, -1.20748177e-01,\n",
       "       -3.35399657e-01, -1.08103082e-01,  1.77579880e-01, -3.43362480e-01,\n",
       "        1.68997139e-01, -3.50842834e-01,  3.54180075e-02,  4.79687601e-01,\n",
       "       -1.55298665e-01,  2.40078375e-01,  1.89319819e-01, -1.53715029e-01,\n",
       "       -5.01320735e-02,  6.61840513e-02,  1.10961653e-01,  2.12338924e-01,\n",
       "        9.56699908e-01, -2.05306202e-01, -1.25721425e-01,  2.40979567e-01,\n",
       "       -2.42609203e-01,  1.95218801e-01,  4.43989068e-01, -6.93295062e-01,\n",
       "        2.84114573e-02, -1.02232069e-01, -1.92495823e-01, -2.84961835e-02,\n",
       "        3.37676145e-02,  1.64692495e-02, -2.28750496e-03,  4.09974784e-01,\n",
       "       -3.20152253e-01,  1.19936578e-01, -5.91690063e-01, -3.33052725e-01,\n",
       "        4.46325570e-01, -5.03631867e-02,  2.39351436e-01,  1.38401305e-02,\n",
       "        5.46167344e-02, -3.84624064e-01,  3.47912788e-01, -1.30024239e-01,\n",
       "       -4.87193823e-01, -1.24183692e-01, -3.01571161e-01,  1.26334757e-01,\n",
       "       -3.91748935e-01,  3.44964564e-02,  2.93005496e-01,  2.06666619e-01,\n",
       "        2.94789553e-01, -3.50723058e-01, -2.30814785e-01,  6.55750409e-02,\n",
       "       -6.76323473e-02,  1.52723864e-01, -1.35195479e-01,  5.52975535e-02,\n",
       "       -1.49470732e-01,  8.23602304e-02, -2.47412417e-02,  1.57083794e-01,\n",
       "        8.84790625e-03, -2.22965673e-01, -1.97241470e-01,  1.64113164e-01,\n",
       "        1.22968614e-01, -1.06778413e-01,  2.92708009e-01,  3.90081942e-01,\n",
       "        4.95785117e-01,  2.16477126e-01, -1.91768199e-01,  3.75570804e-01,\n",
       "       -7.25947618e-01,  4.25505370e-01, -1.48996264e-01,  1.90447181e-01,\n",
       "        4.24048632e-01,  2.00585350e-01,  1.43653288e-01,  2.56996959e-01,\n",
       "       -1.46069735e-01,  2.27620155e-01, -1.56314764e-02,  3.77357230e-02,\n",
       "        2.94878870e-01,  2.75741577e-01, -4.56466526e-01,  2.67971545e-01,\n",
       "       -3.13158870e-01, -3.09617314e-02,  1.35689750e-01,  1.98141798e-01,\n",
       "       -2.28216559e-01, -3.00356835e-01,  1.64429843e-01,  2.30004951e-01,\n",
       "       -1.37166232e-01,  1.16597086e-01,  2.16075480e-01, -4.54318374e-01,\n",
       "       -5.99221647e-01, -2.66778618e-01,  3.62054944e-01,  5.12366695e-03,\n",
       "        3.06792617e-01,  2.49406263e-01,  4.87714261e-01,  5.22310846e-02,\n",
       "        1.86561242e-01,  3.90715778e-01, -1.03315718e-01,  4.06335071e-02,\n",
       "        2.33638942e-01,  4.87754911e-01,  5.43256223e-01, -1.51549399e-01,\n",
       "       -2.33832985e-01, -1.23271517e-01,  3.55182797e-01, -2.09794462e-01,\n",
       "        2.12054506e-01, -4.32461381e-01,  4.59537536e-01,  2.64936835e-01,\n",
       "        1.36513487e-01, -5.06273955e-02,  9.44207162e-02, -3.32529306e-01,\n",
       "       -1.91876456e-01, -1.02866270e-01,  1.77256018e-02,  3.03903580e-01,\n",
       "        4.54538047e-01, -1.17911756e-01,  1.04745716e-01, -2.42270976e-01,\n",
       "       -3.17640454e-01,  2.47776732e-01, -3.77330631e-01, -3.78948033e-01,\n",
       "       -2.26427257e-01,  1.02552362e-01, -3.21364135e-01, -1.42388299e-01,\n",
       "        1.76122367e-01,  1.03320926e-01, -3.00063193e-01, -1.01132378e-01,\n",
       "       -1.46298468e-01, -1.18558012e-01,  7.50268996e-02,  5.80407865e-02,\n",
       "        2.15639859e-01,  2.89390385e-01,  2.86169946e-01,  3.92636098e-02,\n",
       "       -5.27847931e-02,  3.53067666e-01,  2.87080765e-01,  1.74023926e-01,\n",
       "       -1.53250590e-01, -3.27966094e-01, -6.64213765e-03,  2.74052862e-02,\n",
       "       -2.59519726e-01, -5.03102422e-01, -2.77191680e-02,  1.65536165e-01,\n",
       "        1.26894325e-01, -3.87587219e-01,  1.45292684e-01, -5.75077208e-03,\n",
       "        2.41726656e-02, -8.39586556e-03, -4.01172996e-01,  2.86125928e-01,\n",
       "        4.07914333e-02, -6.20640337e-01, -7.53370762e-01, -4.63797189e-02,\n",
       "        7.87254348e-02,  1.64002463e-01,  9.32342708e-02,  4.06921357e-01,\n",
       "        2.34128296e-01, -7.87350684e-02,  9.18004587e-02,  2.14248318e-02,\n",
       "       -4.01870310e-01, -3.43081653e-01,  2.10975662e-01, -5.18761814e-01,\n",
       "       -4.42418724e-01,  1.33638546e-01, -2.43293986e-01, -3.09427679e-01,\n",
       "       -5.30507088e-01,  4.67840657e-02,  9.36459601e-02, -5.05283654e-01,\n",
       "        2.18415052e-01,  7.24314451e-02,  2.95333117e-01,  6.61639646e-02,\n",
       "       -1.25641569e-01,  1.19434735e-02, -3.72408330e-01,  1.20628655e-01,\n",
       "        7.77054280e-02, -7.23365918e-02,  2.19984889e-01, -2.43524492e-01,\n",
       "        1.97947565e-02,  5.73019609e-02,  1.65382951e-01, -5.32770157e-01,\n",
       "        4.65895474e-01, -2.04075664e-01, -1.65226564e-01, -2.60931671e-01,\n",
       "        1.50418878e-01, -3.78965616e-01, -1.90376729e-01, -1.50844187e-01,\n",
       "       -3.63151640e-01, -2.64827579e-01, -2.34373763e-01, -2.39743575e-01,\n",
       "       -4.62998375e-02,  3.43196660e-01, -2.17130110e-02, -8.68038237e-02,\n",
       "       -6.40487522e-02,  1.51151359e-01,  4.71888483e-01,  2.78258592e-01,\n",
       "       -6.93494501e-03,  3.11262310e-01, -4.24742311e-01, -2.13701010e-01,\n",
       "       -1.13130137e-01,  3.22183043e-01, -1.56736955e-01,  2.24944688e-02,\n",
       "       -3.30609143e-01,  2.10615203e-01, -2.74975687e-01,  1.75549388e-01,\n",
       "       -1.12229973e-01,  3.17385122e-02, -2.98755392e-02, -6.28775880e-02,\n",
       "       -3.76850307e-01,  2.83250809e-01,  1.70949340e-01, -1.17263220e-01,\n",
       "       -2.33549297e-01,  9.81202871e-02, -3.28188151e-01, -4.05222833e-01,\n",
       "       -7.18409479e-01,  3.74530375e-01,  1.26311541e-01, -3.54051769e-01,\n",
       "        1.20624244e-01, -1.30235121e-01,  4.76462692e-02,  3.22775930e-01,\n",
       "        5.12208417e-02,  4.07502592e-01, -3.10090780e-01,  1.13772275e-02,\n",
       "       -7.21578822e-02,  1.45400733e-01,  4.29410487e-01, -1.12281933e-01,\n",
       "        4.36204448e-02, -3.11317772e-01, -1.14946276e-01,  1.07521556e-01,\n",
       "        2.94793725e-01,  2.12133572e-01, -2.61678070e-01, -1.97770763e-02,\n",
       "       -2.35701934e-01,  1.75191417e-01, -1.90941527e-01, -6.98066503e-02,\n",
       "        3.20632190e-01, -1.86895773e-01, -3.75396907e-01, -1.93315491e-01,\n",
       "        1.82608254e-02, -1.56334370e-01,  1.97785199e-01,  1.41482800e-01,\n",
       "       -1.52753681e-01, -4.77109738e-02, -3.38978432e-02, -2.18335122e-01,\n",
       "       -2.84406900e-01,  8.68594125e-02,  3.28122050e-01,  4.58082370e-02,\n",
       "        8.45175833e-02,  2.35265922e-02, -1.62862465e-01, -4.67836671e-02,\n",
       "        4.01766486e-02, -4.58790775e-04, -1.73329815e-01,  7.40970969e-02,\n",
       "        3.88507575e-01, -4.42110561e-02, -3.41795199e-02, -2.21260846e-01,\n",
       "        1.55459687e-01, -1.02163561e-01,  3.93353909e-01,  1.87544256e-01,\n",
       "       -4.63334054e-01,  1.81233659e-02, -1.92749739e-01,  3.72230917e-01,\n",
       "        1.95447326e-01,  4.65154529e-01, -1.34469762e-01,  1.63719952e-01,\n",
       "        2.22224563e-01, -9.18757692e-02,  2.05803722e-01,  1.59318492e-01,\n",
       "       -2.83888012e-01,  3.52977574e-01,  2.45920330e-01,  4.67134953e-01,\n",
       "        1.69061273e-01,  4.62458104e-01,  1.64158136e-01,  1.55744687e-01,\n",
       "        4.40952688e-01, -4.83768843e-02, -5.93688786e-01, -2.95452863e-01,\n",
       "        3.60600382e-01, -4.37329441e-01, -2.79229909e-01, -1.18033707e-01,\n",
       "       -1.30486146e-01, -1.86148912e-01, -1.62530005e-01,  3.65711539e-03,\n",
       "       -1.18572190e-01,  3.59481387e-02, -1.15984805e-01, -3.12373072e-01,\n",
       "       -8.98138434e-03, -2.06905931e-01,  4.24600989e-01, -8.91896710e-02,\n",
       "        3.47414941e-01,  1.86593235e-01,  4.06041741e-01,  2.98118681e-01,\n",
       "       -4.42954570e-01,  2.18041420e-01, -2.42951721e-01,  2.94464946e-01,\n",
       "       -5.19436479e-01,  8.96077156e-02, -1.81548610e-01,  4.07663286e-02,\n",
       "        5.37561297e-01, -1.62352607e-01,  9.35232863e-02, -3.44965041e-01,\n",
       "       -1.49875581e-01,  7.65074074e-01, -1.28502324e-01, -4.92876887e-01,\n",
       "        2.51318957e-03,  6.91120848e-02,  5.64981282e-01, -2.24606127e-01,\n",
       "       -8.76836479e-02,  3.60301822e-01,  8.95861238e-02,  9.29118320e-02,\n",
       "       -7.96870664e-02,  5.73202670e-01,  3.42398845e-02, -8.09843466e-02,\n",
       "       -2.12663803e-02, -5.09814262e-01, -8.70531574e-02, -3.72032613e-01,\n",
       "        4.19929147e-01,  8.87008235e-02,  2.67573029e-01, -1.85242165e-02,\n",
       "       -3.02205384e-02, -6.53727174e-01, -5.18178344e-01,  1.18752636e-01,\n",
       "        2.61028767e-01,  3.58003825e-01, -4.79627222e-01,  1.08938806e-01,\n",
       "        4.73714709e-01,  2.84312189e-01, -5.42598784e-01, -9.03436095e-02,\n",
       "        6.28211200e-01,  7.95795843e-02,  2.20531851e-01,  2.11604871e-02,\n",
       "       -2.89477825e-01,  2.29511082e-01, -2.70351261e-01,  2.38544285e-01,\n",
       "        2.91947424e-01,  3.19266796e-01,  2.95179844e-01, -2.92235523e-01,\n",
       "        1.23014092e-01, -2.76357140e-02,  6.34849118e-03,  1.42012104e-01,\n",
       "        3.15573812e-01, -3.37204516e-01, -3.26124020e-02,  8.85551330e-03,\n",
       "       -2.76220322e-01, -1.88443199e-01,  1.77575618e-01, -1.55023411e-01,\n",
       "       -2.95537382e-01, -2.03040898e-01, -1.32543623e-01, -1.21343486e-01,\n",
       "        2.69968390e-01, -3.62277001e-01,  2.53481209e-01,  2.23748073e-01,\n",
       "        2.11454675e-01, -3.76536459e-01, -2.42997453e-01,  2.00368971e-01,\n",
       "        5.62791266e-02,  1.58649161e-01, -5.86034730e-02,  1.58963725e-01,\n",
       "        6.58121109e-02,  1.41394556e-01,  6.57513738e-02,  3.27968121e-01,\n",
       "        5.39322257e-01, -1.56544700e-01,  1.95406973e-01, -1.66958511e-01,\n",
       "        2.61149257e-01, -8.22400451e-01,  3.93102199e-01, -1.27386138e-01,\n",
       "       -3.30252439e-01, -2.01681972e-01,  1.49045005e-01,  4.25248355e-01,\n",
       "        2.24836618e-01, -1.66275337e-01,  1.81120455e-01, -4.07397486e-02,\n",
       "       -2.11974099e-01, -4.81502175e-01,  2.99762070e-01, -2.70460784e-01,\n",
       "       -1.26795858e-01, -3.08255047e-01,  3.29881251e-01,  4.54249442e-01,\n",
       "       -1.32252738e-01, -8.41492787e-02,  3.22127879e-01, -3.65089625e-01,\n",
       "        4.84016627e-01, -6.00767881e-02,  3.84656698e-01,  5.36092818e-01,\n",
       "       -4.08677757e-02,  8.10142010e-02,  2.63495564e-01, -3.78361076e-01,\n",
       "       -3.19947779e-01,  5.25168598e-01,  3.24086174e-02, -6.98558018e-02,\n",
       "       -2.62653325e-02,  9.92222279e-02, -6.93708718e-01,  2.62062997e-01,\n",
       "       -3.41299444e-01,  1.39548644e-01,  2.29778916e-01, -2.29213089e-01,\n",
       "        1.09487131e-01,  1.64533630e-01, -2.88959354e-01, -3.42490733e-01,\n",
       "        3.15253660e-02,  1.97779268e-01, -8.58144909e-02, -1.07342079e-02,\n",
       "       -8.08571801e-02,  1.45982116e-01,  2.79591769e-01,  2.84637153e-01,\n",
       "       -5.37312813e-02,  2.09926367e-01,  2.91485518e-01,  1.31370369e-02,\n",
       "        4.07902189e-02, -2.72534966e-01, -4.23292704e-02,  1.02513611e-01,\n",
       "       -2.41238937e-01, -4.18116629e-01,  2.02172726e-01,  6.67093396e-01,\n",
       "        1.64939091e-01, -1.14632748e-01, -5.72597571e-02, -4.54102188e-01,\n",
       "       -1.71543524e-01, -5.83332442e-02, -1.26582906e-02, -1.31290182e-01,\n",
       "       -1.63915247e-01,  1.27460718e-01,  4.11478207e-02,  1.52880073e-01,\n",
       "        3.97506446e-01, -1.44302279e-01,  5.59602678e-01,  2.10405499e-01,\n",
       "        2.69510895e-01, -1.70724452e-01, -2.60548651e-01,  2.09152579e-01,\n",
       "        3.04806560e-01, -6.21048868e-01, -2.85987258e-02,  3.41840424e-02,\n",
       "       -1.37491757e-02,  4.01128083e-02, -4.23640937e-01,  2.93241978e-01,\n",
       "        4.52775121e-01,  9.88308489e-02, -7.11767152e-02,  2.04589397e-01,\n",
       "       -2.81145591e-02, -4.12116200e-01,  1.11152917e-01, -1.79863319e-01,\n",
       "       -4.74505052e-02,  2.83712655e-01,  1.82598829e-02,  5.86852096e-02,\n",
       "        3.65913689e-01,  2.39824176e-01,  4.57925171e-01,  4.43689466e-01,\n",
       "        1.51280031e-01, -4.15995419e-01, -1.42769530e-01, -1.87236488e-01,\n",
       "        2.52145231e-01,  1.56220317e-01,  3.70350927e-01, -7.66561806e-01,\n",
       "       -3.88589233e-01, -2.39577722e-02,  2.22118631e-01,  2.72804409e-01,\n",
       "       -3.23165387e-01, -1.88202441e-01,  2.88856030e-01,  5.25758147e-01,\n",
       "        2.52673745e-01, -6.59705102e-01,  5.05235374e-01,  3.58366162e-01,\n",
       "       -1.20071121e-01,  3.03302675e-01, -1.12392247e-01,  1.86889738e-01,\n",
       "       -9.84848291e-02,  2.66562104e-02,  3.42261970e-01, -4.88013625e-01,\n",
       "        9.34988260e-02, -3.87814462e-01,  2.17020705e-01,  4.80756938e-01,\n",
       "        3.21704984e-01,  1.41108364e-01,  3.92628670e-01, -3.51333432e-02,\n",
       "        6.21551240e-04,  7.34966695e-02,  1.19907461e-01, -3.62615019e-01,\n",
       "       -1.24425210e-01,  1.00047313e-01, -1.81303784e-01,  1.27385249e-02,\n",
       "        6.13253593e-01,  4.03293580e-01, -8.17961246e-02, -2.18827859e-01,\n",
       "        2.10036919e-01, -4.66493160e-01, -1.01123311e-01, -3.73137593e-01,\n",
       "       -5.06815434e-01,  1.41812935e-01, -8.80965889e-02, -4.84784484e-01,\n",
       "       -3.15003961e-01, -1.58358753e-01,  2.01203719e-01,  6.81453794e-02,\n",
       "       -1.55102223e-01,  4.28203084e-02,  2.56800056e-01,  2.96151668e-01,\n",
       "        3.33000384e-02,  3.80878031e-01, -2.98713893e-01, -1.61780179e-01,\n",
       "       -7.02537410e-03,  8.88040885e-02,  2.06072018e-01, -1.58671781e-01,\n",
       "        2.84847945e-01,  1.48324996e-01,  1.07928902e-01, -3.01145285e-01,\n",
       "       -5.26559174e-01, -1.97278142e-01, -4.07087654e-01, -4.38656718e-01,\n",
       "       -9.47738364e-02,  4.81457442e-01,  5.54114461e-01, -3.98037471e-02,\n",
       "        2.38385037e-01,  3.84137362e-01, -3.67826015e-01, -1.63495556e-01,\n",
       "        1.88901164e-02, -3.23476464e-01,  3.09233785e-01, -5.61125576e-02,\n",
       "       -5.10999382e-01, -2.44783819e-01, -9.96187404e-02,  1.78462401e-01,\n",
       "       -2.44939104e-01, -1.17820799e-01,  7.54400063e-03,  3.42214690e-03,\n",
       "        2.24641174e-01, -1.90232530e-01,  9.97744426e-02,  1.00509062e-01,\n",
       "        5.00772417e-01,  1.31635800e-01, -4.71109271e-01,  3.30746057e-03,\n",
       "        3.61264169e-01, -1.44872159e-01,  4.12635535e-01, -2.54288495e-01,\n",
       "       -2.47085840e-01,  1.23100489e-01,  1.60914615e-01,  6.78019449e-02,\n",
       "       -9.69213769e-02, -3.68053705e-01, -7.65662864e-02, -5.36885381e-01,\n",
       "        5.91343045e-02, -3.99073124e-01,  1.63089514e-01, -2.98969280e-02,\n",
       "       -2.63378650e-01, -4.14426289e-02,  2.62113750e-01,  3.49140167e-02,\n",
       "        2.83234138e-02, -6.07293010e-01,  2.57455278e-02,  6.11440539e-02,\n",
       "        1.07335905e-02,  2.33446643e-01, -2.12582842e-01,  1.54363811e-01,\n",
       "        3.51270020e-01,  2.92279899e-01, -4.87952769e-01, -2.49354243e-01,\n",
       "       -9.07933339e-02, -1.34850651e-01,  2.49900445e-01,  1.53692782e-01,\n",
       "        1.56880587e-01,  2.20748276e-01, -5.33099771e-01, -4.52421665e-01,\n",
       "       -1.36303484e-01,  1.42883822e-01, -6.57976568e-02, -3.55076045e-01,\n",
       "        2.16501504e-01, -2.10272461e-01, -1.36085272e-01, -5.93346469e-02,\n",
       "       -1.85164332e-01, -5.43936372e-01,  7.32777268e-02, -2.98789054e-01,\n",
       "        2.93700665e-01, -3.15425321e-02, -1.23806253e-01, -1.67084515e-01,\n",
       "       -3.15589935e-01,  4.46307927e-01,  6.17401004e-02,  5.14906585e-01,\n",
       "        2.86327988e-01,  1.13877796e-01,  3.79484408e-02, -4.84955031e-03,\n",
       "        2.07966283e-01,  1.83526799e-01,  2.65169740e-01, -4.83885229e-01,\n",
       "        3.53487968e-01, -4.12358463e-01, -3.84850465e-02, -3.11598748e-01,\n",
       "       -7.70057961e-02,  1.66568533e-01, -1.32431522e-01,  1.47758707e-01,\n",
       "       -2.51063257e-01, -1.87909022e-01, -1.24286138e-01,  1.20831981e-01,\n",
       "        1.42461866e-01, -2.27088422e-01, -2.44741365e-02,  1.06499858e-01,\n",
       "        3.98361623e-01,  3.95834446e-01,  2.42084578e-01, -2.95894116e-01,\n",
       "        4.10637408e-01, -3.94107737e-02,  6.81797042e-02, -1.60185516e-01,\n",
       "        2.26145089e-01,  3.72279942e-01,  3.11683714e-02, -1.62976623e-01,\n",
       "        2.22792670e-01,  2.35957410e-02,  3.86320919e-01, -3.68630625e-02,\n",
       "        1.93319440e-01,  3.56491774e-01,  2.91064531e-01, -1.76527277e-01,\n",
       "        1.93747552e-03,  4.72155400e-02,  1.01475582e-01,  9.98667628e-02,\n",
       "       -7.68583179e-01, -1.84817612e-02,  2.87613571e-01, -2.60448784e-01,\n",
       "        7.42953494e-02,  1.17162943e-01,  4.64435630e-02,  2.15548903e-01,\n",
       "       -2.01022208e-01, -2.13377669e-01, -1.42231703e-01, -3.64420474e-01,\n",
       "        1.16175555e-01, -1.92813069e-01,  2.14893609e-01, -3.04606587e-01,\n",
       "        4.01986569e-01, -1.45331800e-01, -1.53088480e-01,  2.63724532e-02,\n",
       "       -6.84800446e-02, -1.70435920e-01,  2.24138677e-01,  2.82197148e-01,\n",
       "        5.96213676e-02, -2.42124438e-01,  7.46274665e-02,  3.75920795e-02,\n",
       "       -2.39723861e-01, -2.84437805e-01, -7.60152712e-02,  5.94096422e-01,\n",
       "        2.20673420e-02,  3.12863976e-01,  1.01423182e-01, -1.83148265e-01,\n",
       "        1.72139257e-01,  1.29400760e-01,  1.33172408e-01,  4.22729343e-01,\n",
       "       -5.39353266e-02, -5.53360164e-01,  4.16320078e-02,  2.89074808e-01,\n",
       "       -1.40234053e-01, -3.30345482e-01,  3.84396076e-01, -3.66716087e-01,\n",
       "        1.11158632e-01, -1.42449409e-01,  8.28042030e-02, -4.24786657e-01,\n",
       "       -1.44390240e-01,  2.72615254e-01,  4.89114225e-01, -6.51579723e-02,\n",
       "        2.48150975e-02, -8.71274322e-02,  2.37973109e-01,  4.34738338e-01,\n",
       "        2.07254708e-01, -7.71622658e-02, -1.81732833e-01,  1.38196960e-01,\n",
       "       -6.71279356e-02,  2.29854479e-01,  5.47468305e-01, -1.38156936e-01,\n",
       "        1.50289014e-01, -3.80868256e-01,  1.15946983e-03,  1.11188531e-01,\n",
       "        3.60415466e-02, -5.49582779e-01,  2.75139213e-01,  6.05735302e-01,\n",
       "        1.90533534e-01,  1.75058946e-01, -1.72118023e-01, -4.78997767e-01,\n",
       "       -4.24200632e-02,  3.26140285e-01,  1.23573981e-01,  4.35713798e-01,\n",
       "        8.66570249e-02, -7.03544989e-02,  5.08498587e-02,  1.18127935e-01,\n",
       "       -3.68952364e-01, -3.86611044e-01, -2.77491622e-02, -2.82998443e-01,\n",
       "        2.91155547e-01,  5.47633767e-02, -1.91896394e-01,  3.11444074e-01,\n",
       "        6.40866831e-02,  4.49670516e-02, -2.57734805e-01, -7.93313049e-03,\n",
       "        5.68255961e-01,  1.42366886e-01,  7.59458076e-03,  1.67356670e-01,\n",
       "        1.23335719e-01,  2.59191524e-02,  2.76153721e-02,  3.12838629e-02,\n",
       "       -3.90640721e-02, -1.35736153e-01, -5.23839235e-01, -4.75252002e-01,\n",
       "       -1.01241469e-01, -4.09026504e-01, -2.89821565e-01, -3.16786259e-01,\n",
       "       -3.90646644e-02, -3.28166068e-01, -2.43596584e-01,  2.26850271e-01,\n",
       "       -6.14439435e-02, -7.54316151e-02,  5.29698968e-01,  3.93949077e-03,\n",
       "        3.71208280e-01,  2.53431380e-01,  4.21299189e-02, -3.84763181e-01,\n",
       "        1.21325471e-01,  2.91338742e-01, -3.19548607e-01, -8.36129859e-02,\n",
       "        5.68006299e-02, -5.12805521e-01,  4.04089421e-01,  2.99135596e-01,\n",
       "       -3.62324625e-01,  4.95288558e-02,  5.94470799e-01,  5.81380248e-01,\n",
       "        8.72598514e-02,  1.64968431e-01,  5.53245485e-01, -2.63240069e-01,\n",
       "        2.59984493e-01,  1.05387516e-01, -7.63744116e-01, -6.87529668e-02,\n",
       "        7.30834901e-02, -2.18373671e-01, -2.07478836e-01,  2.49792691e-02,\n",
       "        2.65870571e-01,  4.36439961e-01,  7.98232913e-01, -4.67555165e-01,\n",
       "       -3.79395247e-01,  1.50193116e-02, -1.61314517e-01, -7.06825778e-02,\n",
       "       -9.92510989e-02,  1.92764163e-01,  1.47447273e-01, -1.63229540e-01,\n",
       "       -4.34008062e-01,  1.62741825e-01,  2.57480353e-01, -1.62622437e-01,\n",
       "        3.59570056e-01,  1.79566778e-02, -1.50775477e-01, -2.15161040e-01,\n",
       "        8.26130882e-02, -4.99870963e-02,  3.16472650e-01, -3.59986126e-01,\n",
       "        5.59675276e-01,  1.39944687e-01, -2.66592801e-01, -3.13205302e-01,\n",
       "       -5.50063610e-01,  3.68079275e-01, -1.35631338e-01,  2.34614670e-01,\n",
       "        2.03441620e-01, -1.31330311e-01, -3.02782595e-01, -3.02806288e-01,\n",
       "        5.46548702e-02,  1.93545341e-01, -2.09937558e-01, -3.83320361e-01],\n",
       "      dtype=float32)"
      ]
     },
     "execution_count": 138,
     "metadata": {},
     "output_type": "execute_result"
    }
   ],
   "source": [
    "model.wv[\"computer\"]"
   ]
  },
  {
   "cell_type": "code",
   "execution_count": 119,
   "metadata": {},
   "outputs": [],
   "source": [
    "model.wv.save(\"wordvectors\\word2vec2.wordvectors\")"
   ]
  },
  {
   "cell_type": "code",
   "execution_count": 120,
   "metadata": {},
   "outputs": [],
   "source": [
    "model.save(\"wordvectors\\skill2skill2.model\")"
   ]
  },
  {
   "cell_type": "markdown",
   "metadata": {},
   "source": [
    "### Loading and testing saved embedded words"
   ]
  },
  {
   "cell_type": "code",
   "execution_count": 112,
   "metadata": {},
   "outputs": [],
   "source": [
    "wv = KeyedVectors.load(\"wordvectors\\word2vec.wordvectors\", mmap='r')"
   ]
  },
  {
   "cell_type": "code",
   "execution_count": 113,
   "metadata": {},
   "outputs": [
    {
     "ename": "KeyError",
     "evalue": "\"Key 'collaboration' not present in vocabulary\"",
     "output_type": "error",
     "traceback": [
      "\u001b[1;31m---------------------------------------------------------------------------\u001b[0m",
      "\u001b[1;31mKeyError\u001b[0m                                  Traceback (most recent call last)",
      "\u001b[1;32md:\\Dev\\Competition\\skills2job\\skill2skill.ipynb Cell 66\u001b[0m line \u001b[0;36m1\n\u001b[1;32m----> <a href='vscode-notebook-cell:/d%3A/Dev/Competition/skills2job/skill2skill.ipynb#X63sZmlsZQ%3D%3D?line=0'>1</a>\u001b[0m wv\u001b[39m.\u001b[39;49mmost_similar(input_array)\n",
      "File \u001b[1;32mc:\\Users\\miniconda3\\envs\\tf\\lib\\site-packages\\gensim\\models\\keyedvectors.py:841\u001b[0m, in \u001b[0;36mKeyedVectors.most_similar\u001b[1;34m(self, positive, negative, topn, clip_start, clip_end, restrict_vocab, indexer)\u001b[0m\n\u001b[0;32m    838\u001b[0m         weight[idx] \u001b[39m=\u001b[39m item[\u001b[39m1\u001b[39m]\n\u001b[0;32m    840\u001b[0m \u001b[39m# compute the weighted average of all keys\u001b[39;00m\n\u001b[1;32m--> 841\u001b[0m mean \u001b[39m=\u001b[39m \u001b[39mself\u001b[39;49m\u001b[39m.\u001b[39;49mget_mean_vector(keys, weight, pre_normalize\u001b[39m=\u001b[39;49m\u001b[39mTrue\u001b[39;49;00m, post_normalize\u001b[39m=\u001b[39;49m\u001b[39mTrue\u001b[39;49;00m, ignore_missing\u001b[39m=\u001b[39;49m\u001b[39mFalse\u001b[39;49;00m)\n\u001b[0;32m    842\u001b[0m all_keys \u001b[39m=\u001b[39m [\n\u001b[0;32m    843\u001b[0m     \u001b[39mself\u001b[39m\u001b[39m.\u001b[39mget_index(key) \u001b[39mfor\u001b[39;00m key \u001b[39min\u001b[39;00m keys \u001b[39mif\u001b[39;00m \u001b[39misinstance\u001b[39m(key, _KEY_TYPES) \u001b[39mand\u001b[39;00m \u001b[39mself\u001b[39m\u001b[39m.\u001b[39mhas_index_for(key)\n\u001b[0;32m    844\u001b[0m ]\n\u001b[0;32m    846\u001b[0m \u001b[39mif\u001b[39;00m indexer \u001b[39mis\u001b[39;00m \u001b[39mnot\u001b[39;00m \u001b[39mNone\u001b[39;00m \u001b[39mand\u001b[39;00m \u001b[39misinstance\u001b[39m(topn, \u001b[39mint\u001b[39m):\n",
      "File \u001b[1;32mc:\\Users\\miniconda3\\envs\\tf\\lib\\site-packages\\gensim\\models\\keyedvectors.py:518\u001b[0m, in \u001b[0;36mKeyedVectors.get_mean_vector\u001b[1;34m(self, keys, weights, pre_normalize, post_normalize, ignore_missing)\u001b[0m\n\u001b[0;32m    516\u001b[0m         total_weight \u001b[39m+\u001b[39m\u001b[39m=\u001b[39m \u001b[39mabs\u001b[39m(weights[idx])\n\u001b[0;32m    517\u001b[0m     \u001b[39melif\u001b[39;00m \u001b[39mnot\u001b[39;00m ignore_missing:\n\u001b[1;32m--> 518\u001b[0m         \u001b[39mraise\u001b[39;00m \u001b[39mKeyError\u001b[39;00m(\u001b[39mf\u001b[39m\u001b[39m\"\u001b[39m\u001b[39mKey \u001b[39m\u001b[39m'\u001b[39m\u001b[39m{\u001b[39;00mkey\u001b[39m}\u001b[39;00m\u001b[39m'\u001b[39m\u001b[39m not present in vocabulary\u001b[39m\u001b[39m\"\u001b[39m)\n\u001b[0;32m    520\u001b[0m \u001b[39mif\u001b[39;00m total_weight \u001b[39m>\u001b[39m \u001b[39m0\u001b[39m:\n\u001b[0;32m    521\u001b[0m     mean \u001b[39m=\u001b[39m mean \u001b[39m/\u001b[39m total_weight\n",
      "\u001b[1;31mKeyError\u001b[0m: \"Key 'collaboration' not present in vocabulary\""
     ]
    }
   ],
   "source": [
    "wv.most_similar(input_array)"
   ]
  },
  {
   "cell_type": "code",
   "execution_count": null,
   "metadata": {},
   "outputs": [
    {
     "data": {
      "text/plain": [
       "[('elastic', 0.9838289618492126),\n",
       " ('no sql', 0.9778910279273987),\n",
       " ('neo4j', 0.9776978492736816),\n",
       " ('flask', 0.9746628999710083),\n",
       " ('mariadb', 0.9745484590530396),\n",
       " ('phython', 0.9736986756324768),\n",
       " ('backend development', 0.9736780524253845),\n",
       " ('go', 0.9719542860984802),\n",
       " ('rabbit mq', 0.9718587398529053),\n",
       " ('crawling', 0.9711820483207703)]"
      ]
     },
     "execution_count": 193,
     "metadata": {},
     "output_type": "execute_result"
    }
   ],
   "source": [
    "wv.most_similar('backend developer', topn=10)  # get other similar words"
   ]
  }
 ],
 "metadata": {
  "kernelspec": {
   "display_name": "tf",
   "language": "python",
   "name": "python3"
  },
  "language_info": {
   "codemirror_mode": {
    "name": "ipython",
    "version": 3
   },
   "file_extension": ".py",
   "mimetype": "text/x-python",
   "name": "python",
   "nbconvert_exporter": "python",
   "pygments_lexer": "ipython3",
   "version": "3.9.13"
  }
 },
 "nbformat": 4,
 "nbformat_minor": 2
}
